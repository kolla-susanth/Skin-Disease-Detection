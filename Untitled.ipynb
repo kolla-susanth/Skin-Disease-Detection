{
 "cells": [
  {
   "cell_type": "code",
   "execution_count": null,
   "id": "e210d4b0-1081-48e5-b362-a96b150fd05f",
   "metadata": {},
   "outputs": [],
   "source": [
    "#installations"
   ]
  },
  {
   "cell_type": "code",
   "execution_count": 6,
   "id": "8bd556b8-95e9-4d11-a9e7-8e82f3664064",
   "metadata": {
    "scrolled": true
   },
   "outputs": [
    {
     "name": "stdout",
     "output_type": "stream",
     "text": [
      "Defaulting to user installation because normal site-packages is not writeable\n",
      "Requirement already satisfied: ultralytics in c:\\users\\susan\\appdata\\roaming\\python\\python310\\site-packages (8.3.88)\n",
      "Requirement already satisfied: opencv-python in c:\\users\\susan\\appdata\\roaming\\python\\python310\\site-packages (4.11.0.86)\n",
      "Requirement already satisfied: torch in c:\\users\\susan\\appdata\\roaming\\python\\python310\\site-packages (2.5.1+cu121)\n",
      "Requirement already satisfied: torchvision in c:\\users\\susan\\appdata\\roaming\\python\\python310\\site-packages (0.20.1+cu121)\n",
      "Requirement already satisfied: torchaudio in c:\\users\\susan\\appdata\\roaming\\python\\python310\\site-packages (2.5.1+cu121)\n",
      "Requirement already satisfied: numpy<=2.1.1,>=1.23.0 in c:\\users\\susan\\appdata\\roaming\\python\\python310\\site-packages (from ultralytics) (2.0.2)\n",
      "Requirement already satisfied: matplotlib>=3.3.0 in c:\\users\\susan\\appdata\\roaming\\python\\python310\\site-packages (from ultralytics) (3.10.1)\n",
      "Requirement already satisfied: pillow>=7.1.2 in c:\\users\\susan\\appdata\\roaming\\python\\python310\\site-packages (from ultralytics) (11.1.0)\n",
      "Requirement already satisfied: pyyaml>=5.3.1 in c:\\users\\susan\\appdata\\roaming\\python\\python310\\site-packages (from ultralytics) (6.0.2)\n",
      "Requirement already satisfied: requests>=2.23.0 in c:\\users\\susan\\appdata\\roaming\\python\\python310\\site-packages (from ultralytics) (2.32.3)\n",
      "Requirement already satisfied: scipy>=1.4.1 in c:\\users\\susan\\appdata\\roaming\\python\\python310\\site-packages (from ultralytics) (1.15.2)\n",
      "Requirement already satisfied: tqdm>=4.64.0 in c:\\users\\susan\\appdata\\roaming\\python\\python310\\site-packages (from ultralytics) (4.67.1)\n",
      "Requirement already satisfied: psutil in c:\\users\\susan\\appdata\\roaming\\python\\python310\\site-packages (from ultralytics) (7.0.0)\n",
      "Requirement already satisfied: py-cpuinfo in c:\\users\\susan\\appdata\\roaming\\python\\python310\\site-packages (from ultralytics) (9.0.0)\n",
      "Requirement already satisfied: pandas>=1.1.4 in c:\\users\\susan\\appdata\\roaming\\python\\python310\\site-packages (from ultralytics) (2.2.3)\n",
      "Requirement already satisfied: seaborn>=0.11.0 in c:\\users\\susan\\appdata\\roaming\\python\\python310\\site-packages (from ultralytics) (0.13.2)\n",
      "Requirement already satisfied: ultralytics-thop>=2.0.0 in c:\\users\\susan\\appdata\\roaming\\python\\python310\\site-packages (from ultralytics) (2.0.14)\n",
      "Requirement already satisfied: filelock in c:\\users\\susan\\appdata\\roaming\\python\\python310\\site-packages (from torch) (3.17.0)\n",
      "Requirement already satisfied: typing-extensions>=4.8.0 in c:\\users\\susan\\appdata\\roaming\\python\\python310\\site-packages (from torch) (4.12.2)\n",
      "Requirement already satisfied: networkx in c:\\users\\susan\\appdata\\roaming\\python\\python310\\site-packages (from torch) (3.4.2)\n",
      "Requirement already satisfied: jinja2 in c:\\users\\susan\\appdata\\roaming\\python\\python310\\site-packages (from torch) (3.1.6)\n",
      "Requirement already satisfied: fsspec in c:\\users\\susan\\appdata\\roaming\\python\\python310\\site-packages (from torch) (2025.3.0)\n",
      "Requirement already satisfied: sympy==1.13.1 in c:\\users\\susan\\appdata\\roaming\\python\\python310\\site-packages (from torch) (1.13.1)\n",
      "Requirement already satisfied: mpmath<1.4,>=1.1.0 in c:\\users\\susan\\appdata\\roaming\\python\\python310\\site-packages (from sympy==1.13.1->torch) (1.3.0)\n",
      "Requirement already satisfied: contourpy>=1.0.1 in c:\\users\\susan\\appdata\\roaming\\python\\python310\\site-packages (from matplotlib>=3.3.0->ultralytics) (1.3.1)\n",
      "Requirement already satisfied: cycler>=0.10 in c:\\users\\susan\\appdata\\roaming\\python\\python310\\site-packages (from matplotlib>=3.3.0->ultralytics) (0.12.1)\n",
      "Requirement already satisfied: fonttools>=4.22.0 in c:\\users\\susan\\appdata\\roaming\\python\\python310\\site-packages (from matplotlib>=3.3.0->ultralytics) (4.56.0)\n",
      "Requirement already satisfied: kiwisolver>=1.3.1 in c:\\users\\susan\\appdata\\roaming\\python\\python310\\site-packages (from matplotlib>=3.3.0->ultralytics) (1.4.8)\n",
      "Requirement already satisfied: packaging>=20.0 in c:\\users\\susan\\appdata\\roaming\\python\\python310\\site-packages (from matplotlib>=3.3.0->ultralytics) (24.2)\n",
      "Requirement already satisfied: pyparsing>=2.3.1 in c:\\users\\susan\\appdata\\roaming\\python\\python310\\site-packages (from matplotlib>=3.3.0->ultralytics) (3.2.1)\n",
      "Requirement already satisfied: python-dateutil>=2.7 in c:\\users\\susan\\appdata\\roaming\\python\\python310\\site-packages (from matplotlib>=3.3.0->ultralytics) (2.9.0.post0)\n",
      "Requirement already satisfied: pytz>=2020.1 in c:\\users\\susan\\appdata\\roaming\\python\\python310\\site-packages (from pandas>=1.1.4->ultralytics) (2025.1)\n",
      "Requirement already satisfied: tzdata>=2022.7 in c:\\users\\susan\\appdata\\roaming\\python\\python310\\site-packages (from pandas>=1.1.4->ultralytics) (2025.1)\n",
      "Requirement already satisfied: charset-normalizer<4,>=2 in c:\\users\\susan\\appdata\\roaming\\python\\python310\\site-packages (from requests>=2.23.0->ultralytics) (3.4.1)\n",
      "Requirement already satisfied: idna<4,>=2.5 in c:\\users\\susan\\appdata\\roaming\\python\\python310\\site-packages (from requests>=2.23.0->ultralytics) (3.7)\n",
      "Requirement already satisfied: urllib3<3,>=1.21.1 in c:\\users\\susan\\appdata\\roaming\\python\\python310\\site-packages (from requests>=2.23.0->ultralytics) (2.3.0)\n",
      "Requirement already satisfied: certifi>=2017.4.17 in c:\\users\\susan\\appdata\\roaming\\python\\python310\\site-packages (from requests>=2.23.0->ultralytics) (2025.1.31)\n",
      "Requirement already satisfied: colorama in c:\\users\\susan\\appdata\\roaming\\python\\python310\\site-packages (from tqdm>=4.64.0->ultralytics) (0.4.6)\n",
      "Requirement already satisfied: MarkupSafe>=2.0 in c:\\users\\susan\\appdata\\roaming\\python\\python310\\site-packages (from jinja2->torch) (3.0.2)\n",
      "Requirement already satisfied: six>=1.5 in c:\\users\\susan\\appdata\\roaming\\python\\python310\\site-packages (from python-dateutil>=2.7->matplotlib>=3.3.0->ultralytics) (1.17.0)\n"
     ]
    }
   ],
   "source": [
    "!pip install ultralytics opencv-python torch torchvision torchaudio"
   ]
  },
  {
   "cell_type": "code",
   "execution_count": 2,
   "id": "5c420484-c71d-4b5e-aed7-c4415e73bb04",
   "metadata": {},
   "outputs": [],
   "source": [
    "from ultralytics import YOLO\n",
    "import torch"
   ]
  },
  {
   "cell_type": "code",
   "execution_count": 5,
   "id": "6fd56f25-240e-47ef-897d-af23ffa6c946",
   "metadata": {},
   "outputs": [
    {
     "name": "stdout",
     "output_type": "stream",
     "text": [
      "New https://pypi.org/project/ultralytics/8.3.97 available  Update with 'pip install -U ultralytics'\n",
      "Ultralytics 8.3.88  Python-3.10.0 torch-2.5.1+cu121 CUDA:0 (NVIDIA GeForce GTX 1650 with Max-Q Design, 4096MiB)\n",
      "\u001b[34m\u001b[1mengine\\trainer: \u001b[0mtask=detect, mode=train, model=yolov8n.pt, data=skin-diseases-1/data.yaml, epochs=50, time=None, patience=100, batch=16, imgsz=640, save=True, save_period=-1, cache=False, device=cuda, workers=0, project=None, name=train40, exist_ok=False, pretrained=True, optimizer=auto, verbose=True, seed=0, deterministic=True, single_cls=False, rect=False, cos_lr=False, close_mosaic=10, resume=False, amp=True, fraction=1.0, profile=False, freeze=None, multi_scale=False, overlap_mask=True, mask_ratio=4, dropout=0.0, val=True, split=val, save_json=False, save_hybrid=False, conf=None, iou=0.7, max_det=300, half=False, dnn=False, plots=True, source=None, vid_stride=1, stream_buffer=False, visualize=False, augment=False, agnostic_nms=False, classes=None, retina_masks=False, embed=None, show=False, save_frames=False, save_txt=False, save_conf=False, save_crop=False, show_labels=True, show_conf=True, show_boxes=True, line_width=None, format=torchscript, keras=False, optimize=False, int8=False, dynamic=False, simplify=True, opset=None, workspace=None, nms=False, lr0=0.01, lrf=0.01, momentum=0.937, weight_decay=0.0005, warmup_epochs=3.0, warmup_momentum=0.8, warmup_bias_lr=0.1, box=7.5, cls=0.5, dfl=1.5, pose=12.0, kobj=1.0, nbs=64, hsv_h=0.015, hsv_s=0.7, hsv_v=0.4, degrees=0.0, translate=0.1, scale=0.5, shear=0.0, perspective=0.0, flipud=0.0, fliplr=0.5, bgr=0.0, mosaic=1.0, mixup=0.0, copy_paste=0.0, copy_paste_mode=flip, auto_augment=randaugment, erasing=0.4, crop_fraction=1.0, cfg=None, tracker=botsort.yaml, save_dir=C:\\Users\\susan\\runs\\detect\\train40\n",
      "Overriding model.yaml nc=80 with nc=12\n",
      "\n",
      "                   from  n    params  module                                       arguments                     \n",
      "  0                  -1  1       464  ultralytics.nn.modules.conv.Conv             [3, 16, 3, 2]                 \n",
      "  1                  -1  1      4672  ultralytics.nn.modules.conv.Conv             [16, 32, 3, 2]                \n",
      "  2                  -1  1      7360  ultralytics.nn.modules.block.C2f             [32, 32, 1, True]             \n",
      "  3                  -1  1     18560  ultralytics.nn.modules.conv.Conv             [32, 64, 3, 2]                \n",
      "  4                  -1  2     49664  ultralytics.nn.modules.block.C2f             [64, 64, 2, True]             \n",
      "  5                  -1  1     73984  ultralytics.nn.modules.conv.Conv             [64, 128, 3, 2]               \n",
      "  6                  -1  2    197632  ultralytics.nn.modules.block.C2f             [128, 128, 2, True]           \n",
      "  7                  -1  1    295424  ultralytics.nn.modules.conv.Conv             [128, 256, 3, 2]              \n",
      "  8                  -1  1    460288  ultralytics.nn.modules.block.C2f             [256, 256, 1, True]           \n",
      "  9                  -1  1    164608  ultralytics.nn.modules.block.SPPF            [256, 256, 5]                 \n",
      " 10                  -1  1         0  torch.nn.modules.upsampling.Upsample         [None, 2, 'nearest']          \n",
      " 11             [-1, 6]  1         0  ultralytics.nn.modules.conv.Concat           [1]                           \n",
      " 12                  -1  1    148224  ultralytics.nn.modules.block.C2f             [384, 128, 1]                 \n",
      " 13                  -1  1         0  torch.nn.modules.upsampling.Upsample         [None, 2, 'nearest']          \n",
      " 14             [-1, 4]  1         0  ultralytics.nn.modules.conv.Concat           [1]                           \n",
      " 15                  -1  1     37248  ultralytics.nn.modules.block.C2f             [192, 64, 1]                  \n",
      " 16                  -1  1     36992  ultralytics.nn.modules.conv.Conv             [64, 64, 3, 2]                \n",
      " 17            [-1, 12]  1         0  ultralytics.nn.modules.conv.Concat           [1]                           \n",
      " 18                  -1  1    123648  ultralytics.nn.modules.block.C2f             [192, 128, 1]                 \n",
      " 19                  -1  1    147712  ultralytics.nn.modules.conv.Conv             [128, 128, 3, 2]              \n",
      " 20             [-1, 9]  1         0  ultralytics.nn.modules.conv.Concat           [1]                           \n",
      " 21                  -1  1    493056  ultralytics.nn.modules.block.C2f             [384, 256, 1]                 \n",
      " 22        [15, 18, 21]  1    753652  ultralytics.nn.modules.head.Detect           [12, [64, 128, 256]]          \n",
      "Model summary: 129 layers, 3,013,188 parameters, 3,013,172 gradients, 8.2 GFLOPs\n",
      "\n",
      "Transferred 319/355 items from pretrained weights\n",
      "\u001b[34m\u001b[1mTensorBoard: \u001b[0mStart with 'tensorboard --logdir C:\\Users\\susan\\runs\\detect\\train40', view at http://localhost:6006/\n",
      "Freezing layer 'model.22.dfl.conv.weight'\n",
      "\u001b[34m\u001b[1mAMP: \u001b[0mchecks failed . AMP training on NVIDIA GeForce GTX 1650 with Max-Q Design GPU may cause NaN losses or zero-mAP results, so AMP will be disabled during training.\n"
     ]
    },
    {
     "name": "stderr",
     "output_type": "stream",
     "text": [
      "\u001b[34m\u001b[1mtrain: \u001b[0mScanning C:\\Users\\susan\\OneDrive\\Desktop\\cursorai-project\\project\\skin-diseases-1\\train\\labels... 3471 images, 0\u001b[0m\n"
     ]
    },
    {
     "name": "stdout",
     "output_type": "stream",
     "text": [
      "\u001b[34m\u001b[1mtrain: \u001b[0mNew cache created: C:\\Users\\susan\\OneDrive\\Desktop\\cursorai-project\\project\\skin-diseases-1\\train\\labels.cache\n",
      "WARNING  Box and segment counts should be equal, but got len(segments) = 2051, len(boxes) = 10054. To resolve this only boxes will be used and all segments will be removed. To avoid this please supply either a detect or segment dataset, not a detect-segment mixed dataset.\n"
     ]
    },
    {
     "name": "stderr",
     "output_type": "stream",
     "text": [
      "\u001b[34m\u001b[1mval: \u001b[0mScanning C:\\Users\\susan\\OneDrive\\Desktop\\cursorai-project\\project\\skin-diseases-1\\valid\\labels... 264 images, 0 ba\u001b[0m"
     ]
    },
    {
     "name": "stdout",
     "output_type": "stream",
     "text": [
      "\u001b[34m\u001b[1mval: \u001b[0mNew cache created: C:\\Users\\susan\\OneDrive\\Desktop\\cursorai-project\\project\\skin-diseases-1\\valid\\labels.cache\n",
      "WARNING  Box and segment counts should be equal, but got len(segments) = 175, len(boxes) = 863. To resolve this only boxes will be used and all segments will be removed. To avoid this please supply either a detect or segment dataset, not a detect-segment mixed dataset.\n"
     ]
    },
    {
     "name": "stderr",
     "output_type": "stream",
     "text": [
      "\n"
     ]
    },
    {
     "name": "stdout",
     "output_type": "stream",
     "text": [
      "Plotting labels to C:\\Users\\susan\\runs\\detect\\train40\\labels.jpg... \n",
      "\u001b[34m\u001b[1moptimizer:\u001b[0m 'optimizer=auto' found, ignoring 'lr0=0.01' and 'momentum=0.937' and determining best 'optimizer', 'lr0' and 'momentum' automatically... \n",
      "\u001b[34m\u001b[1moptimizer:\u001b[0m AdamW(lr=0.000625, momentum=0.9) with parameter groups 57 weight(decay=0.0), 64 weight(decay=0.0005), 63 bias(decay=0.0)\n",
      "\u001b[34m\u001b[1mTensorBoard: \u001b[0mmodel graph visualization added \n",
      "Image sizes 640 train, 640 val\n",
      "Using 0 dataloader workers\n",
      "Logging results to \u001b[1mC:\\Users\\susan\\runs\\detect\\train40\u001b[0m\n",
      "Starting training for 50 epochs...\n",
      "\n",
      "      Epoch    GPU_mem   box_loss   cls_loss   dfl_loss  Instances       Size\n"
     ]
    },
    {
     "name": "stderr",
     "output_type": "stream",
     "text": [
      "       1/50      3.78G      1.951      3.782       1.82         38        640: 100%|██████████| 217/217 [02:52<00:00,  \n",
      "                 Class     Images  Instances      Box(P          R      mAP50  mAP50-95): 100%|██████████| 9/9 [00:15<0"
     ]
    },
    {
     "name": "stdout",
     "output_type": "stream",
     "text": [
      "                   all        264        863      0.237      0.248      0.173     0.0957\n"
     ]
    },
    {
     "name": "stderr",
     "output_type": "stream",
     "text": [
      "\n"
     ]
    },
    {
     "name": "stdout",
     "output_type": "stream",
     "text": [
      "\n",
      "      Epoch    GPU_mem   box_loss   cls_loss   dfl_loss  Instances       Size\n"
     ]
    },
    {
     "name": "stderr",
     "output_type": "stream",
     "text": [
      "       2/50       3.6G      1.915      2.993      1.746         67        640: 100%|██████████| 217/217 [03:14<00:00,  \n",
      "                 Class     Images  Instances      Box(P          R      mAP50  mAP50-95): 100%|██████████| 9/9 [00:38<0"
     ]
    },
    {
     "name": "stdout",
     "output_type": "stream",
     "text": [
      "                   all        264        863      0.466      0.257      0.199     0.0937\n"
     ]
    },
    {
     "name": "stderr",
     "output_type": "stream",
     "text": [
      "\n"
     ]
    },
    {
     "name": "stdout",
     "output_type": "stream",
     "text": [
      "\n",
      "      Epoch    GPU_mem   box_loss   cls_loss   dfl_loss  Instances       Size\n"
     ]
    },
    {
     "name": "stderr",
     "output_type": "stream",
     "text": [
      "       3/50      3.61G      1.884      2.748      1.734         59        640: 100%|██████████| 217/217 [03:27<00:00,  \n",
      "                 Class     Images  Instances      Box(P          R      mAP50  mAP50-95): 100%|██████████| 9/9 [00:17<0"
     ]
    },
    {
     "name": "stdout",
     "output_type": "stream",
     "text": [
      "                   all        264        863      0.454      0.308      0.266      0.129\n"
     ]
    },
    {
     "name": "stderr",
     "output_type": "stream",
     "text": [
      "\n"
     ]
    },
    {
     "name": "stdout",
     "output_type": "stream",
     "text": [
      "\n",
      "      Epoch    GPU_mem   box_loss   cls_loss   dfl_loss  Instances       Size\n"
     ]
    },
    {
     "name": "stderr",
     "output_type": "stream",
     "text": [
      "       4/50      3.71G      1.903      2.562      1.707         86        640: 100%|██████████| 217/217 [04:03<00:00,  \n",
      "                 Class     Images  Instances      Box(P          R      mAP50  mAP50-95): 100%|██████████| 9/9 [00:29<0"
     ]
    },
    {
     "name": "stdout",
     "output_type": "stream",
     "text": [
      "                   all        264        863      0.372      0.328      0.278      0.145\n"
     ]
    },
    {
     "name": "stderr",
     "output_type": "stream",
     "text": [
      "\n"
     ]
    },
    {
     "name": "stdout",
     "output_type": "stream",
     "text": [
      "\n",
      "      Epoch    GPU_mem   box_loss   cls_loss   dfl_loss  Instances       Size\n"
     ]
    },
    {
     "name": "stderr",
     "output_type": "stream",
     "text": [
      "       5/50      3.59G      1.833      2.387      1.678         49        640: 100%|██████████| 217/217 [02:33<00:00,  \n",
      "                 Class     Images  Instances      Box(P          R      mAP50  mAP50-95): 100%|██████████| 9/9 [00:11<0"
     ]
    },
    {
     "name": "stdout",
     "output_type": "stream",
     "text": [
      "                   all        264        863       0.53      0.328      0.338      0.164\n"
     ]
    },
    {
     "name": "stderr",
     "output_type": "stream",
     "text": [
      "\n"
     ]
    },
    {
     "name": "stdout",
     "output_type": "stream",
     "text": [
      "\n",
      "      Epoch    GPU_mem   box_loss   cls_loss   dfl_loss  Instances       Size\n"
     ]
    },
    {
     "name": "stderr",
     "output_type": "stream",
     "text": [
      "       6/50      3.49G      1.826      2.284      1.672         68        640: 100%|██████████| 217/217 [02:22<00:00,  \n",
      "                 Class     Images  Instances      Box(P          R      mAP50  mAP50-95): 100%|██████████| 9/9 [00:27<0"
     ]
    },
    {
     "name": "stdout",
     "output_type": "stream",
     "text": [
      "                   all        264        863      0.505      0.374      0.405      0.207\n"
     ]
    },
    {
     "name": "stderr",
     "output_type": "stream",
     "text": [
      "\n"
     ]
    },
    {
     "name": "stdout",
     "output_type": "stream",
     "text": [
      "\n",
      "      Epoch    GPU_mem   box_loss   cls_loss   dfl_loss  Instances       Size\n"
     ]
    },
    {
     "name": "stderr",
     "output_type": "stream",
     "text": [
      "       7/50      3.59G      1.804      2.186      1.642         71        640: 100%|██████████| 217/217 [02:32<00:00,  \n",
      "                 Class     Images  Instances      Box(P          R      mAP50  mAP50-95): 100%|██████████| 9/9 [00:17<0"
     ]
    },
    {
     "name": "stdout",
     "output_type": "stream",
     "text": [
      "                   all        264        863      0.474      0.395       0.36      0.185\n"
     ]
    },
    {
     "name": "stderr",
     "output_type": "stream",
     "text": [
      "\n"
     ]
    },
    {
     "name": "stdout",
     "output_type": "stream",
     "text": [
      "\n",
      "      Epoch    GPU_mem   box_loss   cls_loss   dfl_loss  Instances       Size\n"
     ]
    },
    {
     "name": "stderr",
     "output_type": "stream",
     "text": [
      "       8/50      3.59G      1.784      2.108      1.626         81        640: 100%|██████████| 217/217 [02:26<00:00,  \n",
      "                 Class     Images  Instances      Box(P          R      mAP50  mAP50-95): 100%|██████████| 9/9 [00:31<0"
     ]
    },
    {
     "name": "stdout",
     "output_type": "stream",
     "text": [
      "                   all        264        863      0.442      0.398      0.364      0.184\n"
     ]
    },
    {
     "name": "stderr",
     "output_type": "stream",
     "text": [
      "\n"
     ]
    },
    {
     "name": "stdout",
     "output_type": "stream",
     "text": [
      "\n",
      "      Epoch    GPU_mem   box_loss   cls_loss   dfl_loss  Instances       Size\n"
     ]
    },
    {
     "name": "stderr",
     "output_type": "stream",
     "text": [
      "       9/50      3.57G      1.787       2.09      1.633         69        640: 100%|██████████| 217/217 [02:29<00:00,  \n",
      "                 Class     Images  Instances      Box(P          R      mAP50  mAP50-95): 100%|██████████| 9/9 [00:12<0"
     ]
    },
    {
     "name": "stdout",
     "output_type": "stream",
     "text": [
      "                   all        264        863      0.512      0.408      0.424      0.223\n"
     ]
    },
    {
     "name": "stderr",
     "output_type": "stream",
     "text": [
      "\n"
     ]
    },
    {
     "name": "stdout",
     "output_type": "stream",
     "text": [
      "\n",
      "      Epoch    GPU_mem   box_loss   cls_loss   dfl_loss  Instances       Size\n"
     ]
    },
    {
     "name": "stderr",
     "output_type": "stream",
     "text": [
      "      10/50      3.71G      1.769      2.031      1.618         56        640: 100%|██████████| 217/217 [02:28<00:00,  \n",
      "                 Class     Images  Instances      Box(P          R      mAP50  mAP50-95): 100%|██████████| 9/9 [00:26<0"
     ]
    },
    {
     "name": "stdout",
     "output_type": "stream",
     "text": [
      "                   all        264        863      0.534      0.357      0.358      0.187\n"
     ]
    },
    {
     "name": "stderr",
     "output_type": "stream",
     "text": [
      "\n"
     ]
    },
    {
     "name": "stdout",
     "output_type": "stream",
     "text": [
      "\n",
      "      Epoch    GPU_mem   box_loss   cls_loss   dfl_loss  Instances       Size\n"
     ]
    },
    {
     "name": "stderr",
     "output_type": "stream",
     "text": [
      "      11/50      3.59G      1.762       1.95      1.599         57        640: 100%|██████████| 217/217 [02:26<00:00,  \n",
      "                 Class     Images  Instances      Box(P          R      mAP50  mAP50-95): 100%|██████████| 9/9 [00:16<0\n"
     ]
    },
    {
     "name": "stdout",
     "output_type": "stream",
     "text": [
      "                   all        264        863      0.523      0.418      0.433      0.225\n",
      "\n",
      "      Epoch    GPU_mem   box_loss   cls_loss   dfl_loss  Instances       Size\n"
     ]
    },
    {
     "name": "stderr",
     "output_type": "stream",
     "text": [
      "      12/50      3.62G      1.743      1.888      1.592        139        640: 100%|██████████| 217/217 [02:23<00:00,  \n",
      "                 Class     Images  Instances      Box(P          R      mAP50  mAP50-95): 100%|██████████| 9/9 [00:29<0"
     ]
    },
    {
     "name": "stdout",
     "output_type": "stream",
     "text": [
      "                   all        264        863      0.586      0.425      0.449      0.236\n"
     ]
    },
    {
     "name": "stderr",
     "output_type": "stream",
     "text": [
      "\n"
     ]
    },
    {
     "name": "stdout",
     "output_type": "stream",
     "text": [
      "\n",
      "      Epoch    GPU_mem   box_loss   cls_loss   dfl_loss  Instances       Size\n"
     ]
    },
    {
     "name": "stderr",
     "output_type": "stream",
     "text": [
      "      13/50      3.71G      1.728      1.877      1.586         82        640: 100%|██████████| 217/217 [02:24<00:00,  \n",
      "                 Class     Images  Instances      Box(P          R      mAP50  mAP50-95): 100%|██████████| 9/9 [00:20<0"
     ]
    },
    {
     "name": "stdout",
     "output_type": "stream",
     "text": [
      "                   all        264        863      0.589      0.426      0.474      0.258\n"
     ]
    },
    {
     "name": "stderr",
     "output_type": "stream",
     "text": [
      "\n"
     ]
    },
    {
     "name": "stdout",
     "output_type": "stream",
     "text": [
      "\n",
      "      Epoch    GPU_mem   box_loss   cls_loss   dfl_loss  Instances       Size\n"
     ]
    },
    {
     "name": "stderr",
     "output_type": "stream",
     "text": [
      "      14/50      3.69G      1.704      1.806      1.575         66        640: 100%|██████████| 217/217 [02:24<00:00,  \n",
      "                 Class     Images  Instances      Box(P          R      mAP50  mAP50-95): 100%|██████████| 9/9 [00:21<0"
     ]
    },
    {
     "name": "stdout",
     "output_type": "stream",
     "text": [
      "                   all        264        863      0.614      0.443      0.476      0.263\n"
     ]
    },
    {
     "name": "stderr",
     "output_type": "stream",
     "text": [
      "\n"
     ]
    },
    {
     "name": "stdout",
     "output_type": "stream",
     "text": [
      "\n",
      "      Epoch    GPU_mem   box_loss   cls_loss   dfl_loss  Instances       Size\n"
     ]
    },
    {
     "name": "stderr",
     "output_type": "stream",
     "text": [
      "      15/50       3.6G      1.708      1.799      1.579         94        640: 100%|██████████| 217/217 [02:25<00:00,  \n",
      "                 Class     Images  Instances      Box(P          R      mAP50  mAP50-95): 100%|██████████| 9/9 [00:16<0"
     ]
    },
    {
     "name": "stdout",
     "output_type": "stream",
     "text": [
      "                   all        264        863      0.558      0.429      0.432      0.242\n"
     ]
    },
    {
     "name": "stderr",
     "output_type": "stream",
     "text": [
      "\n"
     ]
    },
    {
     "name": "stdout",
     "output_type": "stream",
     "text": [
      "\n",
      "      Epoch    GPU_mem   box_loss   cls_loss   dfl_loss  Instances       Size\n"
     ]
    },
    {
     "name": "stderr",
     "output_type": "stream",
     "text": [
      "      16/50      3.58G      1.716      1.728      1.563         64        640: 100%|██████████| 217/217 [02:24<00:00,  \n",
      "                 Class     Images  Instances      Box(P          R      mAP50  mAP50-95): 100%|██████████| 9/9 [00:10<0"
     ]
    },
    {
     "name": "stdout",
     "output_type": "stream",
     "text": [
      "                   all        264        863      0.625      0.454      0.497      0.277\n"
     ]
    },
    {
     "name": "stderr",
     "output_type": "stream",
     "text": [
      "\n"
     ]
    },
    {
     "name": "stdout",
     "output_type": "stream",
     "text": [
      "\n",
      "      Epoch    GPU_mem   box_loss   cls_loss   dfl_loss  Instances       Size\n"
     ]
    },
    {
     "name": "stderr",
     "output_type": "stream",
     "text": [
      "      17/50      3.72G      1.673      1.705      1.551         73        640: 100%|██████████| 217/217 [02:29<00:00,  \n",
      "                 Class     Images  Instances      Box(P          R      mAP50  mAP50-95): 100%|██████████| 9/9 [00:15<0"
     ]
    },
    {
     "name": "stdout",
     "output_type": "stream",
     "text": [
      "                   all        264        863      0.599      0.472      0.479      0.256\n"
     ]
    },
    {
     "name": "stderr",
     "output_type": "stream",
     "text": [
      "\n"
     ]
    },
    {
     "name": "stdout",
     "output_type": "stream",
     "text": [
      "\n",
      "      Epoch    GPU_mem   box_loss   cls_loss   dfl_loss  Instances       Size\n"
     ]
    },
    {
     "name": "stderr",
     "output_type": "stream",
     "text": [
      "      18/50      3.68G      1.697      1.703      1.546         42        640: 100%|██████████| 217/217 [02:24<00:00,  \n",
      "                 Class     Images  Instances      Box(P          R      mAP50  mAP50-95): 100%|██████████| 9/9 [00:15<0"
     ]
    },
    {
     "name": "stdout",
     "output_type": "stream",
     "text": [
      "                   all        264        863      0.627      0.487      0.525      0.302\n"
     ]
    },
    {
     "name": "stderr",
     "output_type": "stream",
     "text": [
      "\n"
     ]
    },
    {
     "name": "stdout",
     "output_type": "stream",
     "text": [
      "\n",
      "      Epoch    GPU_mem   box_loss   cls_loss   dfl_loss  Instances       Size\n"
     ]
    },
    {
     "name": "stderr",
     "output_type": "stream",
     "text": [
      "      19/50      3.63G      1.684      1.663      1.547         48        640: 100%|██████████| 217/217 [02:24<00:00,  \n",
      "                 Class     Images  Instances      Box(P          R      mAP50  mAP50-95): 100%|██████████| 9/9 [00:16<0"
     ]
    },
    {
     "name": "stdout",
     "output_type": "stream",
     "text": [
      "                   all        264        863      0.465      0.536      0.492      0.273\n"
     ]
    },
    {
     "name": "stderr",
     "output_type": "stream",
     "text": [
      "\n"
     ]
    },
    {
     "name": "stdout",
     "output_type": "stream",
     "text": [
      "\n",
      "      Epoch    GPU_mem   box_loss   cls_loss   dfl_loss  Instances       Size\n"
     ]
    },
    {
     "name": "stderr",
     "output_type": "stream",
     "text": [
      "      20/50      3.59G      1.655       1.61      1.542         65        640: 100%|██████████| 217/217 [02:24<00:00,  \n",
      "                 Class     Images  Instances      Box(P          R      mAP50  mAP50-95): 100%|██████████| 9/9 [00:22<0"
     ]
    },
    {
     "name": "stdout",
     "output_type": "stream",
     "text": [
      "                   all        264        863      0.565       0.51      0.492      0.276\n"
     ]
    },
    {
     "name": "stderr",
     "output_type": "stream",
     "text": [
      "\n"
     ]
    },
    {
     "name": "stdout",
     "output_type": "stream",
     "text": [
      "\n",
      "      Epoch    GPU_mem   box_loss   cls_loss   dfl_loss  Instances       Size\n"
     ]
    },
    {
     "name": "stderr",
     "output_type": "stream",
     "text": [
      "      21/50      3.69G      1.656       1.61      1.532         55        640: 100%|██████████| 217/217 [02:24<00:00,  \n",
      "                 Class     Images  Instances      Box(P          R      mAP50  mAP50-95): 100%|██████████| 9/9 [00:10<0\n"
     ]
    },
    {
     "name": "stdout",
     "output_type": "stream",
     "text": [
      "                   all        264        863      0.451      0.544      0.492      0.264\n",
      "\n",
      "      Epoch    GPU_mem   box_loss   cls_loss   dfl_loss  Instances       Size\n"
     ]
    },
    {
     "name": "stderr",
     "output_type": "stream",
     "text": [
      "      22/50      3.55G      1.642      1.578      1.523         73        640: 100%|██████████| 217/217 [02:24<00:00,  \n",
      "                 Class     Images  Instances      Box(P          R      mAP50  mAP50-95): 100%|██████████| 9/9 [00:12<0"
     ]
    },
    {
     "name": "stdout",
     "output_type": "stream",
     "text": [
      "                   all        264        863       0.46      0.505      0.482       0.28\n"
     ]
    },
    {
     "name": "stderr",
     "output_type": "stream",
     "text": [
      "\n"
     ]
    },
    {
     "name": "stdout",
     "output_type": "stream",
     "text": [
      "\n",
      "      Epoch    GPU_mem   box_loss   cls_loss   dfl_loss  Instances       Size\n"
     ]
    },
    {
     "name": "stderr",
     "output_type": "stream",
     "text": [
      "      23/50      3.53G      1.623      1.552      1.514         83        640: 100%|██████████| 217/217 [02:25<00:00,  \n",
      "                 Class     Images  Instances      Box(P          R      mAP50  mAP50-95): 100%|██████████| 9/9 [00:09<0"
     ]
    },
    {
     "name": "stdout",
     "output_type": "stream",
     "text": [
      "                   all        264        863      0.505      0.521      0.507      0.294\n"
     ]
    },
    {
     "name": "stderr",
     "output_type": "stream",
     "text": [
      "\n"
     ]
    },
    {
     "name": "stdout",
     "output_type": "stream",
     "text": [
      "\n",
      "      Epoch    GPU_mem   box_loss   cls_loss   dfl_loss  Instances       Size\n"
     ]
    },
    {
     "name": "stderr",
     "output_type": "stream",
     "text": [
      "      24/50      3.57G      1.607      1.528      1.494         64        640: 100%|██████████| 217/217 [02:24<00:00,  \n",
      "                 Class     Images  Instances      Box(P          R      mAP50  mAP50-95): 100%|██████████| 9/9 [00:20<0"
     ]
    },
    {
     "name": "stdout",
     "output_type": "stream",
     "text": [
      "                   all        264        863      0.434      0.588      0.509      0.294\n"
     ]
    },
    {
     "name": "stderr",
     "output_type": "stream",
     "text": [
      "\n"
     ]
    },
    {
     "name": "stdout",
     "output_type": "stream",
     "text": [
      "\n",
      "      Epoch    GPU_mem   box_loss   cls_loss   dfl_loss  Instances       Size\n"
     ]
    },
    {
     "name": "stderr",
     "output_type": "stream",
     "text": [
      "      25/50      3.58G      1.597        1.5      1.505         66        640: 100%|██████████| 217/217 [02:26<00:00,  \n",
      "                 Class     Images  Instances      Box(P          R      mAP50  mAP50-95): 100%|██████████| 9/9 [00:12<0\n"
     ]
    },
    {
     "name": "stdout",
     "output_type": "stream",
     "text": [
      "                   all        264        863      0.649      0.482      0.507      0.286\n",
      "\n",
      "      Epoch    GPU_mem   box_loss   cls_loss   dfl_loss  Instances       Size\n"
     ]
    },
    {
     "name": "stderr",
     "output_type": "stream",
     "text": [
      "      26/50      3.56G      1.615      1.472      1.486         70        640: 100%|██████████| 217/217 [02:25<00:00,  \n",
      "                 Class     Images  Instances      Box(P          R      mAP50  mAP50-95): 100%|██████████| 9/9 [00:09<0"
     ]
    },
    {
     "name": "stdout",
     "output_type": "stream",
     "text": [
      "                   all        264        863       0.53       0.54      0.535        0.3\n"
     ]
    },
    {
     "name": "stderr",
     "output_type": "stream",
     "text": [
      "\n"
     ]
    },
    {
     "name": "stdout",
     "output_type": "stream",
     "text": [
      "\n",
      "      Epoch    GPU_mem   box_loss   cls_loss   dfl_loss  Instances       Size\n"
     ]
    },
    {
     "name": "stderr",
     "output_type": "stream",
     "text": [
      "      27/50       3.6G      1.588      1.457      1.478         72        640: 100%|██████████| 217/217 [02:27<00:00,  \n",
      "                 Class     Images  Instances      Box(P          R      mAP50  mAP50-95): 100%|██████████| 9/9 [00:15<0"
     ]
    },
    {
     "name": "stdout",
     "output_type": "stream",
     "text": [
      "                   all        264        863      0.619      0.492      0.511      0.285\n"
     ]
    },
    {
     "name": "stderr",
     "output_type": "stream",
     "text": [
      "\n"
     ]
    },
    {
     "name": "stdout",
     "output_type": "stream",
     "text": [
      "\n",
      "      Epoch    GPU_mem   box_loss   cls_loss   dfl_loss  Instances       Size\n"
     ]
    },
    {
     "name": "stderr",
     "output_type": "stream",
     "text": [
      "      28/50      3.58G      1.573      1.433      1.465         64        640: 100%|██████████| 217/217 [02:25<00:00,  \n",
      "                 Class     Images  Instances      Box(P          R      mAP50  mAP50-95): 100%|██████████| 9/9 [00:24<0"
     ]
    },
    {
     "name": "stdout",
     "output_type": "stream",
     "text": [
      "                   all        264        863      0.443      0.527      0.489       0.29\n"
     ]
    },
    {
     "name": "stderr",
     "output_type": "stream",
     "text": [
      "\n"
     ]
    },
    {
     "name": "stdout",
     "output_type": "stream",
     "text": [
      "\n",
      "      Epoch    GPU_mem   box_loss   cls_loss   dfl_loss  Instances       Size\n"
     ]
    },
    {
     "name": "stderr",
     "output_type": "stream",
     "text": [
      "      29/50      3.59G      1.576      1.396      1.479         54        640: 100%|██████████| 217/217 [02:25<00:00,  \n",
      "                 Class     Images  Instances      Box(P          R      mAP50  mAP50-95): 100%|██████████| 9/9 [00:12<0"
     ]
    },
    {
     "name": "stdout",
     "output_type": "stream",
     "text": [
      "                   all        264        863      0.518      0.565      0.551      0.315\n"
     ]
    },
    {
     "name": "stderr",
     "output_type": "stream",
     "text": [
      "\n"
     ]
    },
    {
     "name": "stdout",
     "output_type": "stream",
     "text": [
      "\n",
      "      Epoch    GPU_mem   box_loss   cls_loss   dfl_loss  Instances       Size\n"
     ]
    },
    {
     "name": "stderr",
     "output_type": "stream",
     "text": [
      "      30/50      3.57G      1.555      1.403      1.466         58        640: 100%|██████████| 217/217 [02:27<00:00,  \n",
      "                 Class     Images  Instances      Box(P          R      mAP50  mAP50-95): 100%|██████████| 9/9 [00:22<0"
     ]
    },
    {
     "name": "stdout",
     "output_type": "stream",
     "text": [
      "                   all        264        863      0.533      0.537      0.538      0.305\n"
     ]
    },
    {
     "name": "stderr",
     "output_type": "stream",
     "text": [
      "\n"
     ]
    },
    {
     "name": "stdout",
     "output_type": "stream",
     "text": [
      "\n",
      "      Epoch    GPU_mem   box_loss   cls_loss   dfl_loss  Instances       Size\n"
     ]
    },
    {
     "name": "stderr",
     "output_type": "stream",
     "text": [
      "      31/50      3.59G       1.55      1.374      1.462         79        640: 100%|██████████| 217/217 [6:32:16<00:00,\n",
      "                 Class     Images  Instances      Box(P          R      mAP50  mAP50-95): 100%|██████████| 9/9 [00:11<0"
     ]
    },
    {
     "name": "stdout",
     "output_type": "stream",
     "text": [
      "                   all        264        863      0.562      0.535      0.525      0.298\n"
     ]
    },
    {
     "name": "stderr",
     "output_type": "stream",
     "text": [
      "\n"
     ]
    },
    {
     "name": "stdout",
     "output_type": "stream",
     "text": [
      "\n",
      "      Epoch    GPU_mem   box_loss   cls_loss   dfl_loss  Instances       Size\n"
     ]
    },
    {
     "name": "stderr",
     "output_type": "stream",
     "text": [
      "      32/50      3.62G      1.534      1.341      1.448         56        640: 100%|██████████| 217/217 [03:04<00:00,  \n",
      "                 Class     Images  Instances      Box(P          R      mAP50  mAP50-95): 100%|██████████| 9/9 [00:17<0"
     ]
    },
    {
     "name": "stdout",
     "output_type": "stream",
     "text": [
      "                   all        264        863      0.562      0.546      0.542      0.303\n"
     ]
    },
    {
     "name": "stderr",
     "output_type": "stream",
     "text": [
      "\n"
     ]
    },
    {
     "name": "stdout",
     "output_type": "stream",
     "text": [
      "\n",
      "      Epoch    GPU_mem   box_loss   cls_loss   dfl_loss  Instances       Size\n"
     ]
    },
    {
     "name": "stderr",
     "output_type": "stream",
     "text": [
      "      33/50      3.55G      1.536      1.344      1.443         57        640: 100%|██████████| 217/217 [02:22<00:00,  \n",
      "                 Class     Images  Instances      Box(P          R      mAP50  mAP50-95): 100%|██████████| 9/9 [00:09<0"
     ]
    },
    {
     "name": "stdout",
     "output_type": "stream",
     "text": [
      "                   all        264        863      0.561       0.55      0.556      0.312\n"
     ]
    },
    {
     "name": "stderr",
     "output_type": "stream",
     "text": [
      "\n"
     ]
    },
    {
     "name": "stdout",
     "output_type": "stream",
     "text": [
      "\n",
      "      Epoch    GPU_mem   box_loss   cls_loss   dfl_loss  Instances       Size\n"
     ]
    },
    {
     "name": "stderr",
     "output_type": "stream",
     "text": [
      "      34/50      3.61G      1.532      1.334      1.443        101        640: 100%|██████████| 217/217 [02:20<00:00,  \n",
      "                 Class     Images  Instances      Box(P          R      mAP50  mAP50-95): 100%|██████████| 9/9 [00:21<0"
     ]
    },
    {
     "name": "stdout",
     "output_type": "stream",
     "text": [
      "                   all        264        863      0.542      0.562      0.531      0.301\n"
     ]
    },
    {
     "name": "stderr",
     "output_type": "stream",
     "text": [
      "\n"
     ]
    },
    {
     "name": "stdout",
     "output_type": "stream",
     "text": [
      "\n",
      "      Epoch    GPU_mem   box_loss   cls_loss   dfl_loss  Instances       Size\n"
     ]
    },
    {
     "name": "stderr",
     "output_type": "stream",
     "text": [
      "      35/50      3.61G      1.529      1.289      1.433         82        640: 100%|██████████| 217/217 [02:20<00:00,  \n",
      "                 Class     Images  Instances      Box(P          R      mAP50  mAP50-95): 100%|██████████| 9/9 [00:11<0"
     ]
    },
    {
     "name": "stdout",
     "output_type": "stream",
     "text": [
      "                   all        264        863      0.514      0.503      0.535      0.307\n"
     ]
    },
    {
     "name": "stderr",
     "output_type": "stream",
     "text": [
      "\n"
     ]
    },
    {
     "name": "stdout",
     "output_type": "stream",
     "text": [
      "\n",
      "      Epoch    GPU_mem   box_loss   cls_loss   dfl_loss  Instances       Size\n"
     ]
    },
    {
     "name": "stderr",
     "output_type": "stream",
     "text": [
      "      36/50      3.59G      1.502      1.277      1.421         75        640: 100%|██████████| 217/217 [02:21<00:00,  \n",
      "                 Class     Images  Instances      Box(P          R      mAP50  mAP50-95): 100%|██████████| 9/9 [00:24<0"
     ]
    },
    {
     "name": "stdout",
     "output_type": "stream",
     "text": [
      "                   all        264        863      0.564      0.538      0.526      0.303\n"
     ]
    },
    {
     "name": "stderr",
     "output_type": "stream",
     "text": [
      "\n"
     ]
    },
    {
     "name": "stdout",
     "output_type": "stream",
     "text": [
      "\n",
      "      Epoch    GPU_mem   box_loss   cls_loss   dfl_loss  Instances       Size\n"
     ]
    },
    {
     "name": "stderr",
     "output_type": "stream",
     "text": [
      "      37/50      3.63G      1.499      1.252      1.413         74        640: 100%|██████████| 217/217 [02:48<00:00,  \n",
      "                 Class     Images  Instances      Box(P          R      mAP50  mAP50-95): 100%|██████████| 9/9 [00:10<0"
     ]
    },
    {
     "name": "stdout",
     "output_type": "stream",
     "text": [
      "                   all        264        863       0.49      0.546      0.519        0.3\n"
     ]
    },
    {
     "name": "stderr",
     "output_type": "stream",
     "text": [
      "\n"
     ]
    },
    {
     "name": "stdout",
     "output_type": "stream",
     "text": [
      "\n",
      "      Epoch    GPU_mem   box_loss   cls_loss   dfl_loss  Instances       Size\n"
     ]
    },
    {
     "name": "stderr",
     "output_type": "stream",
     "text": [
      "      38/50      3.63G      1.479      1.236      1.402         86        640: 100%|██████████| 217/217 [02:39<00:00,  \n",
      "                 Class     Images  Instances      Box(P          R      mAP50  mAP50-95): 100%|██████████| 9/9 [00:24<0"
     ]
    },
    {
     "name": "stdout",
     "output_type": "stream",
     "text": [
      "                   all        264        863      0.494      0.572       0.55      0.318\n"
     ]
    },
    {
     "name": "stderr",
     "output_type": "stream",
     "text": [
      "\n"
     ]
    },
    {
     "name": "stdout",
     "output_type": "stream",
     "text": [
      "\n",
      "      Epoch    GPU_mem   box_loss   cls_loss   dfl_loss  Instances       Size\n"
     ]
    },
    {
     "name": "stderr",
     "output_type": "stream",
     "text": [
      "      39/50      3.58G      1.478      1.229      1.406         85        640: 100%|██████████| 217/217 [02:40<00:00,  \n",
      "                 Class     Images  Instances      Box(P          R      mAP50  mAP50-95): 100%|██████████| 9/9 [00:11<0"
     ]
    },
    {
     "name": "stdout",
     "output_type": "stream",
     "text": [
      "                   all        264        863      0.526      0.564      0.548      0.318\n"
     ]
    },
    {
     "name": "stderr",
     "output_type": "stream",
     "text": [
      "\n"
     ]
    },
    {
     "name": "stdout",
     "output_type": "stream",
     "text": [
      "\n",
      "      Epoch    GPU_mem   box_loss   cls_loss   dfl_loss  Instances       Size\n"
     ]
    },
    {
     "name": "stderr",
     "output_type": "stream",
     "text": [
      "      40/50      3.57G      1.473      1.219      1.404         88        640: 100%|██████████| 217/217 [02:45<00:00,  \n",
      "                 Class     Images  Instances      Box(P          R      mAP50  mAP50-95): 100%|██████████| 9/9 [00:13<0"
     ]
    },
    {
     "name": "stdout",
     "output_type": "stream",
     "text": [
      "                   all        264        863      0.489      0.594      0.557      0.307\n"
     ]
    },
    {
     "name": "stderr",
     "output_type": "stream",
     "text": [
      "\n"
     ]
    },
    {
     "name": "stdout",
     "output_type": "stream",
     "text": [
      "Closing dataloader mosaic\n",
      "\n",
      "      Epoch    GPU_mem   box_loss   cls_loss   dfl_loss  Instances       Size\n"
     ]
    },
    {
     "name": "stderr",
     "output_type": "stream",
     "text": [
      "      41/50      3.48G      1.521      1.214      1.476         31        640: 100%|██████████| 217/217 [02:20<00:00,  \n",
      "                 Class     Images  Instances      Box(P          R      mAP50  mAP50-95): 100%|██████████| 9/9 [00:09<0"
     ]
    },
    {
     "name": "stdout",
     "output_type": "stream",
     "text": [
      "                   all        264        863      0.599      0.517       0.55      0.322\n"
     ]
    },
    {
     "name": "stderr",
     "output_type": "stream",
     "text": [
      "\n"
     ]
    },
    {
     "name": "stdout",
     "output_type": "stream",
     "text": [
      "\n",
      "      Epoch    GPU_mem   box_loss   cls_loss   dfl_loss  Instances       Size\n"
     ]
    },
    {
     "name": "stderr",
     "output_type": "stream",
     "text": [
      "      42/50      3.57G      1.487      1.156      1.461         35        640: 100%|██████████| 217/217 [02:39<00:00,  \n",
      "                 Class     Images  Instances      Box(P          R      mAP50  mAP50-95): 100%|██████████| 9/9 [00:27<0"
     ]
    },
    {
     "name": "stdout",
     "output_type": "stream",
     "text": [
      "                   all        264        863      0.598      0.544      0.567      0.335\n"
     ]
    },
    {
     "name": "stderr",
     "output_type": "stream",
     "text": [
      "\n"
     ]
    },
    {
     "name": "stdout",
     "output_type": "stream",
     "text": [
      "\n",
      "      Epoch    GPU_mem   box_loss   cls_loss   dfl_loss  Instances       Size\n"
     ]
    },
    {
     "name": "stderr",
     "output_type": "stream",
     "text": [
      "      43/50      3.57G      1.467      1.144      1.445         36        640: 100%|██████████| 217/217 [02:36<00:00,  \n",
      "                 Class     Images  Instances      Box(P          R      mAP50  mAP50-95): 100%|██████████| 9/9 [00:15<0"
     ]
    },
    {
     "name": "stdout",
     "output_type": "stream",
     "text": [
      "                   all        264        863      0.606      0.541      0.547      0.312\n"
     ]
    },
    {
     "name": "stderr",
     "output_type": "stream",
     "text": [
      "\n"
     ]
    },
    {
     "name": "stdout",
     "output_type": "stream",
     "text": [
      "\n",
      "      Epoch    GPU_mem   box_loss   cls_loss   dfl_loss  Instances       Size\n"
     ]
    },
    {
     "name": "stderr",
     "output_type": "stream",
     "text": [
      "      44/50      3.58G      1.453       1.11      1.433         30        640: 100%|██████████| 217/217 [02:36<00:00,  \n",
      "                 Class     Images  Instances      Box(P          R      mAP50  mAP50-95): 100%|██████████| 9/9 [00:21<0"
     ]
    },
    {
     "name": "stdout",
     "output_type": "stream",
     "text": [
      "                   all        264        863      0.659      0.521       0.57      0.333\n"
     ]
    },
    {
     "name": "stderr",
     "output_type": "stream",
     "text": [
      "\n"
     ]
    },
    {
     "name": "stdout",
     "output_type": "stream",
     "text": [
      "\n",
      "      Epoch    GPU_mem   box_loss   cls_loss   dfl_loss  Instances       Size\n"
     ]
    },
    {
     "name": "stderr",
     "output_type": "stream",
     "text": [
      "      45/50      3.49G      1.439      1.098      1.418         31        640: 100%|██████████| 217/217 [02:27<00:00,  \n",
      "                 Class     Images  Instances      Box(P          R      mAP50  mAP50-95): 100%|██████████| 9/9 [00:10<0"
     ]
    },
    {
     "name": "stdout",
     "output_type": "stream",
     "text": [
      "                   all        264        863      0.618      0.537      0.561      0.328\n"
     ]
    },
    {
     "name": "stderr",
     "output_type": "stream",
     "text": [
      "\n"
     ]
    },
    {
     "name": "stdout",
     "output_type": "stream",
     "text": [
      "\n",
      "      Epoch    GPU_mem   box_loss   cls_loss   dfl_loss  Instances       Size\n"
     ]
    },
    {
     "name": "stderr",
     "output_type": "stream",
     "text": [
      "      46/50       3.6G      1.434      1.083      1.416         58        640: 100%|██████████| 217/217 [02:19<00:00,  \n",
      "                 Class     Images  Instances      Box(P          R      mAP50  mAP50-95): 100%|██████████| 9/9 [00:31<0"
     ]
    },
    {
     "name": "stdout",
     "output_type": "stream",
     "text": [
      "                   all        264        863      0.574       0.58      0.566      0.328\n"
     ]
    },
    {
     "name": "stderr",
     "output_type": "stream",
     "text": [
      "\n"
     ]
    },
    {
     "name": "stdout",
     "output_type": "stream",
     "text": [
      "\n",
      "      Epoch    GPU_mem   box_loss   cls_loss   dfl_loss  Instances       Size\n"
     ]
    },
    {
     "name": "stderr",
     "output_type": "stream",
     "text": [
      "      47/50      3.51G      1.423      1.071      1.412         60        640: 100%|██████████| 217/217 [02:15<00:00,  \n",
      "                 Class     Images  Instances      Box(P          R      mAP50  mAP50-95): 100%|██████████| 9/9 [00:09<0"
     ]
    },
    {
     "name": "stdout",
     "output_type": "stream",
     "text": [
      "                   all        264        863      0.622      0.535       0.57      0.328\n"
     ]
    },
    {
     "name": "stderr",
     "output_type": "stream",
     "text": [
      "\n"
     ]
    },
    {
     "name": "stdout",
     "output_type": "stream",
     "text": [
      "\n",
      "      Epoch    GPU_mem   box_loss   cls_loss   dfl_loss  Instances       Size\n"
     ]
    },
    {
     "name": "stderr",
     "output_type": "stream",
     "text": [
      "      48/50      3.58G        1.4      1.041      1.389         73        640: 100%|██████████| 217/217 [02:16<00:00,  \n",
      "                 Class     Images  Instances      Box(P          R      mAP50  mAP50-95): 100%|██████████| 9/9 [00:28<0"
     ]
    },
    {
     "name": "stdout",
     "output_type": "stream",
     "text": [
      "                   all        264        863      0.582      0.576      0.586      0.334\n"
     ]
    },
    {
     "name": "stderr",
     "output_type": "stream",
     "text": [
      "\n"
     ]
    },
    {
     "name": "stdout",
     "output_type": "stream",
     "text": [
      "\n",
      "      Epoch    GPU_mem   box_loss   cls_loss   dfl_loss  Instances       Size\n"
     ]
    },
    {
     "name": "stderr",
     "output_type": "stream",
     "text": [
      "      49/50      3.64G      1.399      1.043      1.393         64        640: 100%|██████████| 217/217 [02:16<00:00,  \n",
      "                 Class     Images  Instances      Box(P          R      mAP50  mAP50-95): 100%|██████████| 9/9 [00:16<0"
     ]
    },
    {
     "name": "stdout",
     "output_type": "stream",
     "text": [
      "                   all        264        863      0.603      0.547       0.57      0.322\n"
     ]
    },
    {
     "name": "stderr",
     "output_type": "stream",
     "text": [
      "\n"
     ]
    },
    {
     "name": "stdout",
     "output_type": "stream",
     "text": [
      "\n",
      "      Epoch    GPU_mem   box_loss   cls_loss   dfl_loss  Instances       Size\n"
     ]
    },
    {
     "name": "stderr",
     "output_type": "stream",
     "text": [
      "      50/50      3.58G      1.383      1.024      1.389         32        640: 100%|██████████| 217/217 [02:15<00:00,  \n",
      "                 Class     Images  Instances      Box(P          R      mAP50  mAP50-95): 100%|██████████| 9/9 [00:22<0"
     ]
    },
    {
     "name": "stdout",
     "output_type": "stream",
     "text": [
      "                   all        264        863      0.603      0.545      0.568      0.331\n"
     ]
    },
    {
     "name": "stderr",
     "output_type": "stream",
     "text": [
      "\n"
     ]
    },
    {
     "name": "stdout",
     "output_type": "stream",
     "text": [
      "\n",
      "50 epochs completed in 8.876 hours.\n",
      "Optimizer stripped from C:\\Users\\susan\\runs\\detect\\train40\\weights\\last.pt, 6.3MB\n",
      "Optimizer stripped from C:\\Users\\susan\\runs\\detect\\train40\\weights\\best.pt, 6.3MB\n",
      "\n",
      "Validating C:\\Users\\susan\\runs\\detect\\train40\\weights\\best.pt...\n",
      "Ultralytics 8.3.88  Python-3.10.0 torch-2.5.1+cu121 CUDA:0 (NVIDIA GeForce GTX 1650 with Max-Q Design, 4096MiB)\n",
      "Model summary (fused): 72 layers, 3,007,988 parameters, 0 gradients, 8.1 GFLOPs\n"
     ]
    },
    {
     "name": "stderr",
     "output_type": "stream",
     "text": [
      "                 Class     Images  Instances      Box(P          R      mAP50  mAP50-95): 100%|██████████| 9/9 [00:04<0\n"
     ]
    },
    {
     "name": "stdout",
     "output_type": "stream",
     "text": [
      "                   all        264        863      0.584      0.578      0.586      0.334\n",
      "                  Acne         27        382      0.647      0.432      0.484      0.161\n",
      "            Chickenpox         21         71      0.317      0.239      0.191     0.0577\n",
      "                Eczema         36        114      0.704      0.895      0.867      0.535\n",
      "             Monkeypox         29         73      0.569      0.438      0.437      0.238\n",
      "                Pimple          3          4      0.579      0.368      0.565      0.205\n",
      "             Psoriasis         26         34       0.81      0.941      0.937      0.725\n",
      "              Ringworm         14         15      0.719      0.867      0.916      0.725\n",
      "  basal cell carcinoma         29         52      0.594      0.421      0.432      0.254\n",
      "      tinea-versicolor         26         40      0.493      0.609      0.508       0.25\n",
      "              vitiligo         36         54      0.424        0.5      0.436      0.198\n",
      "                 warts         19         24      0.564      0.648      0.672      0.321\n",
      "Speed: 0.4ms preprocess, 7.1ms inference, 0.0ms loss, 0.9ms postprocess per image\n",
      "Results saved to \u001b[1mC:\\Users\\susan\\runs\\detect\\train40\u001b[0m\n",
      "Ultralytics 8.3.88  Python-3.10.0 torch-2.5.1+cu121 CUDA:0 (NVIDIA GeForce GTX 1650 with Max-Q Design, 4096MiB)\n",
      "Model summary (fused): 72 layers, 3,007,988 parameters, 0 gradients, 8.1 GFLOPs\n"
     ]
    },
    {
     "name": "stderr",
     "output_type": "stream",
     "text": [
      "\u001b[34m\u001b[1mval: \u001b[0mScanning C:\\Users\\susan\\OneDrive\\Desktop\\cursorai-project\\project\\skin-diseases-1\\valid\\labels.cache... 264 images\u001b[0m"
     ]
    },
    {
     "name": "stdout",
     "output_type": "stream",
     "text": [
      "WARNING  Box and segment counts should be equal, but got len(segments) = 175, len(boxes) = 863. To resolve this only boxes will be used and all segments will be removed. To avoid this please supply either a detect or segment dataset, not a detect-segment mixed dataset.\n"
     ]
    },
    {
     "name": "stderr",
     "output_type": "stream",
     "text": [
      "\n",
      "                 Class     Images  Instances      Box(P          R      mAP50  mAP50-95): 100%|██████████| 17/17 [00:04\n"
     ]
    },
    {
     "name": "stdout",
     "output_type": "stream",
     "text": [
      "                   all        264        863      0.584      0.578      0.586      0.334\n",
      "                  Acne         27        382      0.647      0.432      0.484      0.161\n",
      "            Chickenpox         21         71      0.317      0.239      0.191     0.0577\n",
      "                Eczema         36        114      0.704      0.895      0.867      0.535\n",
      "             Monkeypox         29         73      0.569      0.438      0.437      0.238\n",
      "                Pimple          3          4      0.579      0.368      0.565      0.205\n",
      "             Psoriasis         26         34       0.81      0.941      0.937      0.725\n",
      "              Ringworm         14         15      0.719      0.867      0.916      0.725\n",
      "  basal cell carcinoma         29         52      0.594      0.421      0.432      0.254\n",
      "      tinea-versicolor         26         40      0.493      0.609      0.508       0.25\n",
      "              vitiligo         36         54      0.424        0.5      0.436      0.198\n",
      "                 warts         19         24      0.564      0.648      0.672      0.321\n",
      "Speed: 0.4ms preprocess, 7.6ms inference, 0.0ms loss, 0.8ms postprocess per image\n",
      "Results saved to \u001b[1mC:\\Users\\susan\\runs\\detect\\train402\u001b[0m\n",
      "ultralytics.utils.metrics.DetMetrics object with attributes:\n",
      "\n",
      "ap_class_index: array([ 0,  1,  2,  3,  4,  5,  6,  7,  9, 10, 11])\n",
      "box: ultralytics.utils.metrics.Metric object\n",
      "confusion_matrix: <ultralytics.utils.metrics.ConfusionMatrix object at 0x000001F738C38C10>\n",
      "curves: ['Precision-Recall(B)', 'F1-Confidence(B)', 'Precision-Confidence(B)', 'Recall-Confidence(B)']\n",
      "curves_results: [[array([          0,    0.001001,    0.002002,    0.003003,    0.004004,    0.005005,    0.006006,    0.007007,    0.008008,    0.009009,     0.01001,    0.011011,    0.012012,    0.013013,    0.014014,    0.015015,    0.016016,    0.017017,    0.018018,    0.019019,     0.02002,    0.021021,    0.022022,    0.023023,\n",
      "          0.024024,    0.025025,    0.026026,    0.027027,    0.028028,    0.029029,     0.03003,    0.031031,    0.032032,    0.033033,    0.034034,    0.035035,    0.036036,    0.037037,    0.038038,    0.039039,     0.04004,    0.041041,    0.042042,    0.043043,    0.044044,    0.045045,    0.046046,    0.047047,\n",
      "          0.048048,    0.049049,     0.05005,    0.051051,    0.052052,    0.053053,    0.054054,    0.055055,    0.056056,    0.057057,    0.058058,    0.059059,     0.06006,    0.061061,    0.062062,    0.063063,    0.064064,    0.065065,    0.066066,    0.067067,    0.068068,    0.069069,     0.07007,    0.071071,\n",
      "          0.072072,    0.073073,    0.074074,    0.075075,    0.076076,    0.077077,    0.078078,    0.079079,     0.08008,    0.081081,    0.082082,    0.083083,    0.084084,    0.085085,    0.086086,    0.087087,    0.088088,    0.089089,     0.09009,    0.091091,    0.092092,    0.093093,    0.094094,    0.095095,\n",
      "          0.096096,    0.097097,    0.098098,    0.099099,      0.1001,      0.1011,      0.1021,      0.1031,      0.1041,     0.10511,     0.10611,     0.10711,     0.10811,     0.10911,     0.11011,     0.11111,     0.11211,     0.11311,     0.11411,     0.11512,     0.11612,     0.11712,     0.11812,     0.11912,\n",
      "           0.12012,     0.12112,     0.12212,     0.12312,     0.12412,     0.12513,     0.12613,     0.12713,     0.12813,     0.12913,     0.13013,     0.13113,     0.13213,     0.13313,     0.13413,     0.13514,     0.13614,     0.13714,     0.13814,     0.13914,     0.14014,     0.14114,     0.14214,     0.14314,\n",
      "           0.14414,     0.14515,     0.14615,     0.14715,     0.14815,     0.14915,     0.15015,     0.15115,     0.15215,     0.15315,     0.15415,     0.15516,     0.15616,     0.15716,     0.15816,     0.15916,     0.16016,     0.16116,     0.16216,     0.16316,     0.16416,     0.16517,     0.16617,     0.16717,\n",
      "           0.16817,     0.16917,     0.17017,     0.17117,     0.17217,     0.17317,     0.17417,     0.17518,     0.17618,     0.17718,     0.17818,     0.17918,     0.18018,     0.18118,     0.18218,     0.18318,     0.18418,     0.18519,     0.18619,     0.18719,     0.18819,     0.18919,     0.19019,     0.19119,\n",
      "           0.19219,     0.19319,     0.19419,      0.1952,      0.1962,      0.1972,      0.1982,      0.1992,      0.2002,      0.2012,      0.2022,      0.2032,      0.2042,     0.20521,     0.20621,     0.20721,     0.20821,     0.20921,     0.21021,     0.21121,     0.21221,     0.21321,     0.21421,     0.21522,\n",
      "           0.21622,     0.21722,     0.21822,     0.21922,     0.22022,     0.22122,     0.22222,     0.22322,     0.22422,     0.22523,     0.22623,     0.22723,     0.22823,     0.22923,     0.23023,     0.23123,     0.23223,     0.23323,     0.23423,     0.23524,     0.23624,     0.23724,     0.23824,     0.23924,\n",
      "           0.24024,     0.24124,     0.24224,     0.24324,     0.24424,     0.24525,     0.24625,     0.24725,     0.24825,     0.24925,     0.25025,     0.25125,     0.25225,     0.25325,     0.25425,     0.25526,     0.25626,     0.25726,     0.25826,     0.25926,     0.26026,     0.26126,     0.26226,     0.26326,\n",
      "           0.26426,     0.26527,     0.26627,     0.26727,     0.26827,     0.26927,     0.27027,     0.27127,     0.27227,     0.27327,     0.27427,     0.27528,     0.27628,     0.27728,     0.27828,     0.27928,     0.28028,     0.28128,     0.28228,     0.28328,     0.28428,     0.28529,     0.28629,     0.28729,\n",
      "           0.28829,     0.28929,     0.29029,     0.29129,     0.29229,     0.29329,     0.29429,      0.2953,      0.2963,      0.2973,      0.2983,      0.2993,      0.3003,      0.3013,      0.3023,      0.3033,      0.3043,     0.30531,     0.30631,     0.30731,     0.30831,     0.30931,     0.31031,     0.31131,\n",
      "           0.31231,     0.31331,     0.31431,     0.31532,     0.31632,     0.31732,     0.31832,     0.31932,     0.32032,     0.32132,     0.32232,     0.32332,     0.32432,     0.32533,     0.32633,     0.32733,     0.32833,     0.32933,     0.33033,     0.33133,     0.33233,     0.33333,     0.33433,     0.33534,\n",
      "           0.33634,     0.33734,     0.33834,     0.33934,     0.34034,     0.34134,     0.34234,     0.34334,     0.34434,     0.34535,     0.34635,     0.34735,     0.34835,     0.34935,     0.35035,     0.35135,     0.35235,     0.35335,     0.35435,     0.35536,     0.35636,     0.35736,     0.35836,     0.35936,\n",
      "           0.36036,     0.36136,     0.36236,     0.36336,     0.36436,     0.36537,     0.36637,     0.36737,     0.36837,     0.36937,     0.37037,     0.37137,     0.37237,     0.37337,     0.37437,     0.37538,     0.37638,     0.37738,     0.37838,     0.37938,     0.38038,     0.38138,     0.38238,     0.38338,\n",
      "           0.38438,     0.38539,     0.38639,     0.38739,     0.38839,     0.38939,     0.39039,     0.39139,     0.39239,     0.39339,     0.39439,      0.3954,      0.3964,      0.3974,      0.3984,      0.3994,      0.4004,      0.4014,      0.4024,      0.4034,      0.4044,     0.40541,     0.40641,     0.40741,\n",
      "           0.40841,     0.40941,     0.41041,     0.41141,     0.41241,     0.41341,     0.41441,     0.41542,     0.41642,     0.41742,     0.41842,     0.41942,     0.42042,     0.42142,     0.42242,     0.42342,     0.42442,     0.42543,     0.42643,     0.42743,     0.42843,     0.42943,     0.43043,     0.43143,\n",
      "           0.43243,     0.43343,     0.43443,     0.43544,     0.43644,     0.43744,     0.43844,     0.43944,     0.44044,     0.44144,     0.44244,     0.44344,     0.44444,     0.44545,     0.44645,     0.44745,     0.44845,     0.44945,     0.45045,     0.45145,     0.45245,     0.45345,     0.45445,     0.45546,\n",
      "           0.45646,     0.45746,     0.45846,     0.45946,     0.46046,     0.46146,     0.46246,     0.46346,     0.46446,     0.46547,     0.46647,     0.46747,     0.46847,     0.46947,     0.47047,     0.47147,     0.47247,     0.47347,     0.47447,     0.47548,     0.47648,     0.47748,     0.47848,     0.47948,\n",
      "           0.48048,     0.48148,     0.48248,     0.48348,     0.48448,     0.48549,     0.48649,     0.48749,     0.48849,     0.48949,     0.49049,     0.49149,     0.49249,     0.49349,     0.49449,      0.4955,      0.4965,      0.4975,      0.4985,      0.4995,      0.5005,      0.5015,      0.5025,      0.5035,\n",
      "            0.5045,     0.50551,     0.50651,     0.50751,     0.50851,     0.50951,     0.51051,     0.51151,     0.51251,     0.51351,     0.51451,     0.51552,     0.51652,     0.51752,     0.51852,     0.51952,     0.52052,     0.52152,     0.52252,     0.52352,     0.52452,     0.52553,     0.52653,     0.52753,\n",
      "           0.52853,     0.52953,     0.53053,     0.53153,     0.53253,     0.53353,     0.53453,     0.53554,     0.53654,     0.53754,     0.53854,     0.53954,     0.54054,     0.54154,     0.54254,     0.54354,     0.54454,     0.54555,     0.54655,     0.54755,     0.54855,     0.54955,     0.55055,     0.55155,\n",
      "           0.55255,     0.55355,     0.55455,     0.55556,     0.55656,     0.55756,     0.55856,     0.55956,     0.56056,     0.56156,     0.56256,     0.56356,     0.56456,     0.56557,     0.56657,     0.56757,     0.56857,     0.56957,     0.57057,     0.57157,     0.57257,     0.57357,     0.57457,     0.57558,\n",
      "           0.57658,     0.57758,     0.57858,     0.57958,     0.58058,     0.58158,     0.58258,     0.58358,     0.58458,     0.58559,     0.58659,     0.58759,     0.58859,     0.58959,     0.59059,     0.59159,     0.59259,     0.59359,     0.59459,      0.5956,      0.5966,      0.5976,      0.5986,      0.5996,\n",
      "            0.6006,      0.6016,      0.6026,      0.6036,      0.6046,     0.60561,     0.60661,     0.60761,     0.60861,     0.60961,     0.61061,     0.61161,     0.61261,     0.61361,     0.61461,     0.61562,     0.61662,     0.61762,     0.61862,     0.61962,     0.62062,     0.62162,     0.62262,     0.62362,\n",
      "           0.62462,     0.62563,     0.62663,     0.62763,     0.62863,     0.62963,     0.63063,     0.63163,     0.63263,     0.63363,     0.63463,     0.63564,     0.63664,     0.63764,     0.63864,     0.63964,     0.64064,     0.64164,     0.64264,     0.64364,     0.64464,     0.64565,     0.64665,     0.64765,\n",
      "           0.64865,     0.64965,     0.65065,     0.65165,     0.65265,     0.65365,     0.65465,     0.65566,     0.65666,     0.65766,     0.65866,     0.65966,     0.66066,     0.66166,     0.66266,     0.66366,     0.66466,     0.66567,     0.66667,     0.66767,     0.66867,     0.66967,     0.67067,     0.67167,\n",
      "           0.67267,     0.67367,     0.67467,     0.67568,     0.67668,     0.67768,     0.67868,     0.67968,     0.68068,     0.68168,     0.68268,     0.68368,     0.68468,     0.68569,     0.68669,     0.68769,     0.68869,     0.68969,     0.69069,     0.69169,     0.69269,     0.69369,     0.69469,      0.6957,\n",
      "            0.6967,      0.6977,      0.6987,      0.6997,      0.7007,      0.7017,      0.7027,      0.7037,      0.7047,     0.70571,     0.70671,     0.70771,     0.70871,     0.70971,     0.71071,     0.71171,     0.71271,     0.71371,     0.71471,     0.71572,     0.71672,     0.71772,     0.71872,     0.71972,\n",
      "           0.72072,     0.72172,     0.72272,     0.72372,     0.72472,     0.72573,     0.72673,     0.72773,     0.72873,     0.72973,     0.73073,     0.73173,     0.73273,     0.73373,     0.73473,     0.73574,     0.73674,     0.73774,     0.73874,     0.73974,     0.74074,     0.74174,     0.74274,     0.74374,\n",
      "           0.74474,     0.74575,     0.74675,     0.74775,     0.74875,     0.74975,     0.75075,     0.75175,     0.75275,     0.75375,     0.75475,     0.75576,     0.75676,     0.75776,     0.75876,     0.75976,     0.76076,     0.76176,     0.76276,     0.76376,     0.76476,     0.76577,     0.76677,     0.76777,\n",
      "           0.76877,     0.76977,     0.77077,     0.77177,     0.77277,     0.77377,     0.77477,     0.77578,     0.77678,     0.77778,     0.77878,     0.77978,     0.78078,     0.78178,     0.78278,     0.78378,     0.78478,     0.78579,     0.78679,     0.78779,     0.78879,     0.78979,     0.79079,     0.79179,\n",
      "           0.79279,     0.79379,     0.79479,      0.7958,      0.7968,      0.7978,      0.7988,      0.7998,      0.8008,      0.8018,      0.8028,      0.8038,      0.8048,     0.80581,     0.80681,     0.80781,     0.80881,     0.80981,     0.81081,     0.81181,     0.81281,     0.81381,     0.81481,     0.81582,\n",
      "           0.81682,     0.81782,     0.81882,     0.81982,     0.82082,     0.82182,     0.82282,     0.82382,     0.82482,     0.82583,     0.82683,     0.82783,     0.82883,     0.82983,     0.83083,     0.83183,     0.83283,     0.83383,     0.83483,     0.83584,     0.83684,     0.83784,     0.83884,     0.83984,\n",
      "           0.84084,     0.84184,     0.84284,     0.84384,     0.84484,     0.84585,     0.84685,     0.84785,     0.84885,     0.84985,     0.85085,     0.85185,     0.85285,     0.85385,     0.85485,     0.85586,     0.85686,     0.85786,     0.85886,     0.85986,     0.86086,     0.86186,     0.86286,     0.86386,\n",
      "           0.86486,     0.86587,     0.86687,     0.86787,     0.86887,     0.86987,     0.87087,     0.87187,     0.87287,     0.87387,     0.87487,     0.87588,     0.87688,     0.87788,     0.87888,     0.87988,     0.88088,     0.88188,     0.88288,     0.88388,     0.88488,     0.88589,     0.88689,     0.88789,\n",
      "           0.88889,     0.88989,     0.89089,     0.89189,     0.89289,     0.89389,     0.89489,      0.8959,      0.8969,      0.8979,      0.8989,      0.8999,      0.9009,      0.9019,      0.9029,      0.9039,      0.9049,     0.90591,     0.90691,     0.90791,     0.90891,     0.90991,     0.91091,     0.91191,\n",
      "           0.91291,     0.91391,     0.91491,     0.91592,     0.91692,     0.91792,     0.91892,     0.91992,     0.92092,     0.92192,     0.92292,     0.92392,     0.92492,     0.92593,     0.92693,     0.92793,     0.92893,     0.92993,     0.93093,     0.93193,     0.93293,     0.93393,     0.93493,     0.93594,\n",
      "           0.93694,     0.93794,     0.93894,     0.93994,     0.94094,     0.94194,     0.94294,     0.94394,     0.94494,     0.94595,     0.94695,     0.94795,     0.94895,     0.94995,     0.95095,     0.95195,     0.95295,     0.95395,     0.95495,     0.95596,     0.95696,     0.95796,     0.95896,     0.95996,\n",
      "           0.96096,     0.96196,     0.96296,     0.96396,     0.96496,     0.96597,     0.96697,     0.96797,     0.96897,     0.96997,     0.97097,     0.97197,     0.97297,     0.97397,     0.97497,     0.97598,     0.97698,     0.97798,     0.97898,     0.97998,     0.98098,     0.98198,     0.98298,     0.98398,\n",
      "           0.98498,     0.98599,     0.98699,     0.98799,     0.98899,     0.98999,     0.99099,     0.99199,     0.99299,     0.99399,     0.99499,       0.996,       0.997,       0.998,       0.999,           1]), array([[          1,           1,           1, ...,  0.00052805,  0.00026402,           0],\n",
      "       [          1,           1,           1, ...,  0.00016448,  8.2242e-05,           0],\n",
      "       [          1,           1,           1, ...,   0.0058822,   0.0029411,           0],\n",
      "       ...,\n",
      "       [    0.85714,     0.85714,     0.85714, ...,   0.0022025,   0.0011012,           0],\n",
      "       [          1,           1,           1, ...,  0.00019556,   9.778e-05,           0],\n",
      "       [          1,           1,           1, ...,   0.0016795,  0.00083975,           0]]), 'Recall', 'Precision'], [array([          0,    0.001001,    0.002002,    0.003003,    0.004004,    0.005005,    0.006006,    0.007007,    0.008008,    0.009009,     0.01001,    0.011011,    0.012012,    0.013013,    0.014014,    0.015015,    0.016016,    0.017017,    0.018018,    0.019019,     0.02002,    0.021021,    0.022022,    0.023023,\n",
      "          0.024024,    0.025025,    0.026026,    0.027027,    0.028028,    0.029029,     0.03003,    0.031031,    0.032032,    0.033033,    0.034034,    0.035035,    0.036036,    0.037037,    0.038038,    0.039039,     0.04004,    0.041041,    0.042042,    0.043043,    0.044044,    0.045045,    0.046046,    0.047047,\n",
      "          0.048048,    0.049049,     0.05005,    0.051051,    0.052052,    0.053053,    0.054054,    0.055055,    0.056056,    0.057057,    0.058058,    0.059059,     0.06006,    0.061061,    0.062062,    0.063063,    0.064064,    0.065065,    0.066066,    0.067067,    0.068068,    0.069069,     0.07007,    0.071071,\n",
      "          0.072072,    0.073073,    0.074074,    0.075075,    0.076076,    0.077077,    0.078078,    0.079079,     0.08008,    0.081081,    0.082082,    0.083083,    0.084084,    0.085085,    0.086086,    0.087087,    0.088088,    0.089089,     0.09009,    0.091091,    0.092092,    0.093093,    0.094094,    0.095095,\n",
      "          0.096096,    0.097097,    0.098098,    0.099099,      0.1001,      0.1011,      0.1021,      0.1031,      0.1041,     0.10511,     0.10611,     0.10711,     0.10811,     0.10911,     0.11011,     0.11111,     0.11211,     0.11311,     0.11411,     0.11512,     0.11612,     0.11712,     0.11812,     0.11912,\n",
      "           0.12012,     0.12112,     0.12212,     0.12312,     0.12412,     0.12513,     0.12613,     0.12713,     0.12813,     0.12913,     0.13013,     0.13113,     0.13213,     0.13313,     0.13413,     0.13514,     0.13614,     0.13714,     0.13814,     0.13914,     0.14014,     0.14114,     0.14214,     0.14314,\n",
      "           0.14414,     0.14515,     0.14615,     0.14715,     0.14815,     0.14915,     0.15015,     0.15115,     0.15215,     0.15315,     0.15415,     0.15516,     0.15616,     0.15716,     0.15816,     0.15916,     0.16016,     0.16116,     0.16216,     0.16316,     0.16416,     0.16517,     0.16617,     0.16717,\n",
      "           0.16817,     0.16917,     0.17017,     0.17117,     0.17217,     0.17317,     0.17417,     0.17518,     0.17618,     0.17718,     0.17818,     0.17918,     0.18018,     0.18118,     0.18218,     0.18318,     0.18418,     0.18519,     0.18619,     0.18719,     0.18819,     0.18919,     0.19019,     0.19119,\n",
      "           0.19219,     0.19319,     0.19419,      0.1952,      0.1962,      0.1972,      0.1982,      0.1992,      0.2002,      0.2012,      0.2022,      0.2032,      0.2042,     0.20521,     0.20621,     0.20721,     0.20821,     0.20921,     0.21021,     0.21121,     0.21221,     0.21321,     0.21421,     0.21522,\n",
      "           0.21622,     0.21722,     0.21822,     0.21922,     0.22022,     0.22122,     0.22222,     0.22322,     0.22422,     0.22523,     0.22623,     0.22723,     0.22823,     0.22923,     0.23023,     0.23123,     0.23223,     0.23323,     0.23423,     0.23524,     0.23624,     0.23724,     0.23824,     0.23924,\n",
      "           0.24024,     0.24124,     0.24224,     0.24324,     0.24424,     0.24525,     0.24625,     0.24725,     0.24825,     0.24925,     0.25025,     0.25125,     0.25225,     0.25325,     0.25425,     0.25526,     0.25626,     0.25726,     0.25826,     0.25926,     0.26026,     0.26126,     0.26226,     0.26326,\n",
      "           0.26426,     0.26527,     0.26627,     0.26727,     0.26827,     0.26927,     0.27027,     0.27127,     0.27227,     0.27327,     0.27427,     0.27528,     0.27628,     0.27728,     0.27828,     0.27928,     0.28028,     0.28128,     0.28228,     0.28328,     0.28428,     0.28529,     0.28629,     0.28729,\n",
      "           0.28829,     0.28929,     0.29029,     0.29129,     0.29229,     0.29329,     0.29429,      0.2953,      0.2963,      0.2973,      0.2983,      0.2993,      0.3003,      0.3013,      0.3023,      0.3033,      0.3043,     0.30531,     0.30631,     0.30731,     0.30831,     0.30931,     0.31031,     0.31131,\n",
      "           0.31231,     0.31331,     0.31431,     0.31532,     0.31632,     0.31732,     0.31832,     0.31932,     0.32032,     0.32132,     0.32232,     0.32332,     0.32432,     0.32533,     0.32633,     0.32733,     0.32833,     0.32933,     0.33033,     0.33133,     0.33233,     0.33333,     0.33433,     0.33534,\n",
      "           0.33634,     0.33734,     0.33834,     0.33934,     0.34034,     0.34134,     0.34234,     0.34334,     0.34434,     0.34535,     0.34635,     0.34735,     0.34835,     0.34935,     0.35035,     0.35135,     0.35235,     0.35335,     0.35435,     0.35536,     0.35636,     0.35736,     0.35836,     0.35936,\n",
      "           0.36036,     0.36136,     0.36236,     0.36336,     0.36436,     0.36537,     0.36637,     0.36737,     0.36837,     0.36937,     0.37037,     0.37137,     0.37237,     0.37337,     0.37437,     0.37538,     0.37638,     0.37738,     0.37838,     0.37938,     0.38038,     0.38138,     0.38238,     0.38338,\n",
      "           0.38438,     0.38539,     0.38639,     0.38739,     0.38839,     0.38939,     0.39039,     0.39139,     0.39239,     0.39339,     0.39439,      0.3954,      0.3964,      0.3974,      0.3984,      0.3994,      0.4004,      0.4014,      0.4024,      0.4034,      0.4044,     0.40541,     0.40641,     0.40741,\n",
      "           0.40841,     0.40941,     0.41041,     0.41141,     0.41241,     0.41341,     0.41441,     0.41542,     0.41642,     0.41742,     0.41842,     0.41942,     0.42042,     0.42142,     0.42242,     0.42342,     0.42442,     0.42543,     0.42643,     0.42743,     0.42843,     0.42943,     0.43043,     0.43143,\n",
      "           0.43243,     0.43343,     0.43443,     0.43544,     0.43644,     0.43744,     0.43844,     0.43944,     0.44044,     0.44144,     0.44244,     0.44344,     0.44444,     0.44545,     0.44645,     0.44745,     0.44845,     0.44945,     0.45045,     0.45145,     0.45245,     0.45345,     0.45445,     0.45546,\n",
      "           0.45646,     0.45746,     0.45846,     0.45946,     0.46046,     0.46146,     0.46246,     0.46346,     0.46446,     0.46547,     0.46647,     0.46747,     0.46847,     0.46947,     0.47047,     0.47147,     0.47247,     0.47347,     0.47447,     0.47548,     0.47648,     0.47748,     0.47848,     0.47948,\n",
      "           0.48048,     0.48148,     0.48248,     0.48348,     0.48448,     0.48549,     0.48649,     0.48749,     0.48849,     0.48949,     0.49049,     0.49149,     0.49249,     0.49349,     0.49449,      0.4955,      0.4965,      0.4975,      0.4985,      0.4995,      0.5005,      0.5015,      0.5025,      0.5035,\n",
      "            0.5045,     0.50551,     0.50651,     0.50751,     0.50851,     0.50951,     0.51051,     0.51151,     0.51251,     0.51351,     0.51451,     0.51552,     0.51652,     0.51752,     0.51852,     0.51952,     0.52052,     0.52152,     0.52252,     0.52352,     0.52452,     0.52553,     0.52653,     0.52753,\n",
      "           0.52853,     0.52953,     0.53053,     0.53153,     0.53253,     0.53353,     0.53453,     0.53554,     0.53654,     0.53754,     0.53854,     0.53954,     0.54054,     0.54154,     0.54254,     0.54354,     0.54454,     0.54555,     0.54655,     0.54755,     0.54855,     0.54955,     0.55055,     0.55155,\n",
      "           0.55255,     0.55355,     0.55455,     0.55556,     0.55656,     0.55756,     0.55856,     0.55956,     0.56056,     0.56156,     0.56256,     0.56356,     0.56456,     0.56557,     0.56657,     0.56757,     0.56857,     0.56957,     0.57057,     0.57157,     0.57257,     0.57357,     0.57457,     0.57558,\n",
      "           0.57658,     0.57758,     0.57858,     0.57958,     0.58058,     0.58158,     0.58258,     0.58358,     0.58458,     0.58559,     0.58659,     0.58759,     0.58859,     0.58959,     0.59059,     0.59159,     0.59259,     0.59359,     0.59459,      0.5956,      0.5966,      0.5976,      0.5986,      0.5996,\n",
      "            0.6006,      0.6016,      0.6026,      0.6036,      0.6046,     0.60561,     0.60661,     0.60761,     0.60861,     0.60961,     0.61061,     0.61161,     0.61261,     0.61361,     0.61461,     0.61562,     0.61662,     0.61762,     0.61862,     0.61962,     0.62062,     0.62162,     0.62262,     0.62362,\n",
      "           0.62462,     0.62563,     0.62663,     0.62763,     0.62863,     0.62963,     0.63063,     0.63163,     0.63263,     0.63363,     0.63463,     0.63564,     0.63664,     0.63764,     0.63864,     0.63964,     0.64064,     0.64164,     0.64264,     0.64364,     0.64464,     0.64565,     0.64665,     0.64765,\n",
      "           0.64865,     0.64965,     0.65065,     0.65165,     0.65265,     0.65365,     0.65465,     0.65566,     0.65666,     0.65766,     0.65866,     0.65966,     0.66066,     0.66166,     0.66266,     0.66366,     0.66466,     0.66567,     0.66667,     0.66767,     0.66867,     0.66967,     0.67067,     0.67167,\n",
      "           0.67267,     0.67367,     0.67467,     0.67568,     0.67668,     0.67768,     0.67868,     0.67968,     0.68068,     0.68168,     0.68268,     0.68368,     0.68468,     0.68569,     0.68669,     0.68769,     0.68869,     0.68969,     0.69069,     0.69169,     0.69269,     0.69369,     0.69469,      0.6957,\n",
      "            0.6967,      0.6977,      0.6987,      0.6997,      0.7007,      0.7017,      0.7027,      0.7037,      0.7047,     0.70571,     0.70671,     0.70771,     0.70871,     0.70971,     0.71071,     0.71171,     0.71271,     0.71371,     0.71471,     0.71572,     0.71672,     0.71772,     0.71872,     0.71972,\n",
      "           0.72072,     0.72172,     0.72272,     0.72372,     0.72472,     0.72573,     0.72673,     0.72773,     0.72873,     0.72973,     0.73073,     0.73173,     0.73273,     0.73373,     0.73473,     0.73574,     0.73674,     0.73774,     0.73874,     0.73974,     0.74074,     0.74174,     0.74274,     0.74374,\n",
      "           0.74474,     0.74575,     0.74675,     0.74775,     0.74875,     0.74975,     0.75075,     0.75175,     0.75275,     0.75375,     0.75475,     0.75576,     0.75676,     0.75776,     0.75876,     0.75976,     0.76076,     0.76176,     0.76276,     0.76376,     0.76476,     0.76577,     0.76677,     0.76777,\n",
      "           0.76877,     0.76977,     0.77077,     0.77177,     0.77277,     0.77377,     0.77477,     0.77578,     0.77678,     0.77778,     0.77878,     0.77978,     0.78078,     0.78178,     0.78278,     0.78378,     0.78478,     0.78579,     0.78679,     0.78779,     0.78879,     0.78979,     0.79079,     0.79179,\n",
      "           0.79279,     0.79379,     0.79479,      0.7958,      0.7968,      0.7978,      0.7988,      0.7998,      0.8008,      0.8018,      0.8028,      0.8038,      0.8048,     0.80581,     0.80681,     0.80781,     0.80881,     0.80981,     0.81081,     0.81181,     0.81281,     0.81381,     0.81481,     0.81582,\n",
      "           0.81682,     0.81782,     0.81882,     0.81982,     0.82082,     0.82182,     0.82282,     0.82382,     0.82482,     0.82583,     0.82683,     0.82783,     0.82883,     0.82983,     0.83083,     0.83183,     0.83283,     0.83383,     0.83483,     0.83584,     0.83684,     0.83784,     0.83884,     0.83984,\n",
      "           0.84084,     0.84184,     0.84284,     0.84384,     0.84484,     0.84585,     0.84685,     0.84785,     0.84885,     0.84985,     0.85085,     0.85185,     0.85285,     0.85385,     0.85485,     0.85586,     0.85686,     0.85786,     0.85886,     0.85986,     0.86086,     0.86186,     0.86286,     0.86386,\n",
      "           0.86486,     0.86587,     0.86687,     0.86787,     0.86887,     0.86987,     0.87087,     0.87187,     0.87287,     0.87387,     0.87487,     0.87588,     0.87688,     0.87788,     0.87888,     0.87988,     0.88088,     0.88188,     0.88288,     0.88388,     0.88488,     0.88589,     0.88689,     0.88789,\n",
      "           0.88889,     0.88989,     0.89089,     0.89189,     0.89289,     0.89389,     0.89489,      0.8959,      0.8969,      0.8979,      0.8989,      0.8999,      0.9009,      0.9019,      0.9029,      0.9039,      0.9049,     0.90591,     0.90691,     0.90791,     0.90891,     0.90991,     0.91091,     0.91191,\n",
      "           0.91291,     0.91391,     0.91491,     0.91592,     0.91692,     0.91792,     0.91892,     0.91992,     0.92092,     0.92192,     0.92292,     0.92392,     0.92492,     0.92593,     0.92693,     0.92793,     0.92893,     0.92993,     0.93093,     0.93193,     0.93293,     0.93393,     0.93493,     0.93594,\n",
      "           0.93694,     0.93794,     0.93894,     0.93994,     0.94094,     0.94194,     0.94294,     0.94394,     0.94494,     0.94595,     0.94695,     0.94795,     0.94895,     0.94995,     0.95095,     0.95195,     0.95295,     0.95395,     0.95495,     0.95596,     0.95696,     0.95796,     0.95896,     0.95996,\n",
      "           0.96096,     0.96196,     0.96296,     0.96396,     0.96496,     0.96597,     0.96697,     0.96797,     0.96897,     0.96997,     0.97097,     0.97197,     0.97297,     0.97397,     0.97497,     0.97598,     0.97698,     0.97798,     0.97898,     0.97998,     0.98098,     0.98198,     0.98298,     0.98398,\n",
      "           0.98498,     0.98599,     0.98699,     0.98799,     0.98899,     0.98999,     0.99099,     0.99199,     0.99299,     0.99399,     0.99499,       0.996,       0.997,       0.998,       0.999,           1]), array([[   0.071467,    0.071477,    0.085218, ...,           0,           0,           0],\n",
      "       [   0.038352,    0.038353,    0.053745, ...,           0,           0,           0],\n",
      "       [    0.18628,     0.18628,     0.26365, ...,           0,           0,           0],\n",
      "       ...,\n",
      "       [   0.053498,    0.053498,    0.074254, ...,           0,           0,           0],\n",
      "       [   0.038826,    0.038826,    0.061844, ...,           0,           0,           0],\n",
      "       [   0.067449,    0.067649,    0.093796, ...,           0,           0,           0]]), 'Confidence', 'F1'], [array([          0,    0.001001,    0.002002,    0.003003,    0.004004,    0.005005,    0.006006,    0.007007,    0.008008,    0.009009,     0.01001,    0.011011,    0.012012,    0.013013,    0.014014,    0.015015,    0.016016,    0.017017,    0.018018,    0.019019,     0.02002,    0.021021,    0.022022,    0.023023,\n",
      "          0.024024,    0.025025,    0.026026,    0.027027,    0.028028,    0.029029,     0.03003,    0.031031,    0.032032,    0.033033,    0.034034,    0.035035,    0.036036,    0.037037,    0.038038,    0.039039,     0.04004,    0.041041,    0.042042,    0.043043,    0.044044,    0.045045,    0.046046,    0.047047,\n",
      "          0.048048,    0.049049,     0.05005,    0.051051,    0.052052,    0.053053,    0.054054,    0.055055,    0.056056,    0.057057,    0.058058,    0.059059,     0.06006,    0.061061,    0.062062,    0.063063,    0.064064,    0.065065,    0.066066,    0.067067,    0.068068,    0.069069,     0.07007,    0.071071,\n",
      "          0.072072,    0.073073,    0.074074,    0.075075,    0.076076,    0.077077,    0.078078,    0.079079,     0.08008,    0.081081,    0.082082,    0.083083,    0.084084,    0.085085,    0.086086,    0.087087,    0.088088,    0.089089,     0.09009,    0.091091,    0.092092,    0.093093,    0.094094,    0.095095,\n",
      "          0.096096,    0.097097,    0.098098,    0.099099,      0.1001,      0.1011,      0.1021,      0.1031,      0.1041,     0.10511,     0.10611,     0.10711,     0.10811,     0.10911,     0.11011,     0.11111,     0.11211,     0.11311,     0.11411,     0.11512,     0.11612,     0.11712,     0.11812,     0.11912,\n",
      "           0.12012,     0.12112,     0.12212,     0.12312,     0.12412,     0.12513,     0.12613,     0.12713,     0.12813,     0.12913,     0.13013,     0.13113,     0.13213,     0.13313,     0.13413,     0.13514,     0.13614,     0.13714,     0.13814,     0.13914,     0.14014,     0.14114,     0.14214,     0.14314,\n",
      "           0.14414,     0.14515,     0.14615,     0.14715,     0.14815,     0.14915,     0.15015,     0.15115,     0.15215,     0.15315,     0.15415,     0.15516,     0.15616,     0.15716,     0.15816,     0.15916,     0.16016,     0.16116,     0.16216,     0.16316,     0.16416,     0.16517,     0.16617,     0.16717,\n",
      "           0.16817,     0.16917,     0.17017,     0.17117,     0.17217,     0.17317,     0.17417,     0.17518,     0.17618,     0.17718,     0.17818,     0.17918,     0.18018,     0.18118,     0.18218,     0.18318,     0.18418,     0.18519,     0.18619,     0.18719,     0.18819,     0.18919,     0.19019,     0.19119,\n",
      "           0.19219,     0.19319,     0.19419,      0.1952,      0.1962,      0.1972,      0.1982,      0.1992,      0.2002,      0.2012,      0.2022,      0.2032,      0.2042,     0.20521,     0.20621,     0.20721,     0.20821,     0.20921,     0.21021,     0.21121,     0.21221,     0.21321,     0.21421,     0.21522,\n",
      "           0.21622,     0.21722,     0.21822,     0.21922,     0.22022,     0.22122,     0.22222,     0.22322,     0.22422,     0.22523,     0.22623,     0.22723,     0.22823,     0.22923,     0.23023,     0.23123,     0.23223,     0.23323,     0.23423,     0.23524,     0.23624,     0.23724,     0.23824,     0.23924,\n",
      "           0.24024,     0.24124,     0.24224,     0.24324,     0.24424,     0.24525,     0.24625,     0.24725,     0.24825,     0.24925,     0.25025,     0.25125,     0.25225,     0.25325,     0.25425,     0.25526,     0.25626,     0.25726,     0.25826,     0.25926,     0.26026,     0.26126,     0.26226,     0.26326,\n",
      "           0.26426,     0.26527,     0.26627,     0.26727,     0.26827,     0.26927,     0.27027,     0.27127,     0.27227,     0.27327,     0.27427,     0.27528,     0.27628,     0.27728,     0.27828,     0.27928,     0.28028,     0.28128,     0.28228,     0.28328,     0.28428,     0.28529,     0.28629,     0.28729,\n",
      "           0.28829,     0.28929,     0.29029,     0.29129,     0.29229,     0.29329,     0.29429,      0.2953,      0.2963,      0.2973,      0.2983,      0.2993,      0.3003,      0.3013,      0.3023,      0.3033,      0.3043,     0.30531,     0.30631,     0.30731,     0.30831,     0.30931,     0.31031,     0.31131,\n",
      "           0.31231,     0.31331,     0.31431,     0.31532,     0.31632,     0.31732,     0.31832,     0.31932,     0.32032,     0.32132,     0.32232,     0.32332,     0.32432,     0.32533,     0.32633,     0.32733,     0.32833,     0.32933,     0.33033,     0.33133,     0.33233,     0.33333,     0.33433,     0.33534,\n",
      "           0.33634,     0.33734,     0.33834,     0.33934,     0.34034,     0.34134,     0.34234,     0.34334,     0.34434,     0.34535,     0.34635,     0.34735,     0.34835,     0.34935,     0.35035,     0.35135,     0.35235,     0.35335,     0.35435,     0.35536,     0.35636,     0.35736,     0.35836,     0.35936,\n",
      "           0.36036,     0.36136,     0.36236,     0.36336,     0.36436,     0.36537,     0.36637,     0.36737,     0.36837,     0.36937,     0.37037,     0.37137,     0.37237,     0.37337,     0.37437,     0.37538,     0.37638,     0.37738,     0.37838,     0.37938,     0.38038,     0.38138,     0.38238,     0.38338,\n",
      "           0.38438,     0.38539,     0.38639,     0.38739,     0.38839,     0.38939,     0.39039,     0.39139,     0.39239,     0.39339,     0.39439,      0.3954,      0.3964,      0.3974,      0.3984,      0.3994,      0.4004,      0.4014,      0.4024,      0.4034,      0.4044,     0.40541,     0.40641,     0.40741,\n",
      "           0.40841,     0.40941,     0.41041,     0.41141,     0.41241,     0.41341,     0.41441,     0.41542,     0.41642,     0.41742,     0.41842,     0.41942,     0.42042,     0.42142,     0.42242,     0.42342,     0.42442,     0.42543,     0.42643,     0.42743,     0.42843,     0.42943,     0.43043,     0.43143,\n",
      "           0.43243,     0.43343,     0.43443,     0.43544,     0.43644,     0.43744,     0.43844,     0.43944,     0.44044,     0.44144,     0.44244,     0.44344,     0.44444,     0.44545,     0.44645,     0.44745,     0.44845,     0.44945,     0.45045,     0.45145,     0.45245,     0.45345,     0.45445,     0.45546,\n",
      "           0.45646,     0.45746,     0.45846,     0.45946,     0.46046,     0.46146,     0.46246,     0.46346,     0.46446,     0.46547,     0.46647,     0.46747,     0.46847,     0.46947,     0.47047,     0.47147,     0.47247,     0.47347,     0.47447,     0.47548,     0.47648,     0.47748,     0.47848,     0.47948,\n",
      "           0.48048,     0.48148,     0.48248,     0.48348,     0.48448,     0.48549,     0.48649,     0.48749,     0.48849,     0.48949,     0.49049,     0.49149,     0.49249,     0.49349,     0.49449,      0.4955,      0.4965,      0.4975,      0.4985,      0.4995,      0.5005,      0.5015,      0.5025,      0.5035,\n",
      "            0.5045,     0.50551,     0.50651,     0.50751,     0.50851,     0.50951,     0.51051,     0.51151,     0.51251,     0.51351,     0.51451,     0.51552,     0.51652,     0.51752,     0.51852,     0.51952,     0.52052,     0.52152,     0.52252,     0.52352,     0.52452,     0.52553,     0.52653,     0.52753,\n",
      "           0.52853,     0.52953,     0.53053,     0.53153,     0.53253,     0.53353,     0.53453,     0.53554,     0.53654,     0.53754,     0.53854,     0.53954,     0.54054,     0.54154,     0.54254,     0.54354,     0.54454,     0.54555,     0.54655,     0.54755,     0.54855,     0.54955,     0.55055,     0.55155,\n",
      "           0.55255,     0.55355,     0.55455,     0.55556,     0.55656,     0.55756,     0.55856,     0.55956,     0.56056,     0.56156,     0.56256,     0.56356,     0.56456,     0.56557,     0.56657,     0.56757,     0.56857,     0.56957,     0.57057,     0.57157,     0.57257,     0.57357,     0.57457,     0.57558,\n",
      "           0.57658,     0.57758,     0.57858,     0.57958,     0.58058,     0.58158,     0.58258,     0.58358,     0.58458,     0.58559,     0.58659,     0.58759,     0.58859,     0.58959,     0.59059,     0.59159,     0.59259,     0.59359,     0.59459,      0.5956,      0.5966,      0.5976,      0.5986,      0.5996,\n",
      "            0.6006,      0.6016,      0.6026,      0.6036,      0.6046,     0.60561,     0.60661,     0.60761,     0.60861,     0.60961,     0.61061,     0.61161,     0.61261,     0.61361,     0.61461,     0.61562,     0.61662,     0.61762,     0.61862,     0.61962,     0.62062,     0.62162,     0.62262,     0.62362,\n",
      "           0.62462,     0.62563,     0.62663,     0.62763,     0.62863,     0.62963,     0.63063,     0.63163,     0.63263,     0.63363,     0.63463,     0.63564,     0.63664,     0.63764,     0.63864,     0.63964,     0.64064,     0.64164,     0.64264,     0.64364,     0.64464,     0.64565,     0.64665,     0.64765,\n",
      "           0.64865,     0.64965,     0.65065,     0.65165,     0.65265,     0.65365,     0.65465,     0.65566,     0.65666,     0.65766,     0.65866,     0.65966,     0.66066,     0.66166,     0.66266,     0.66366,     0.66466,     0.66567,     0.66667,     0.66767,     0.66867,     0.66967,     0.67067,     0.67167,\n",
      "           0.67267,     0.67367,     0.67467,     0.67568,     0.67668,     0.67768,     0.67868,     0.67968,     0.68068,     0.68168,     0.68268,     0.68368,     0.68468,     0.68569,     0.68669,     0.68769,     0.68869,     0.68969,     0.69069,     0.69169,     0.69269,     0.69369,     0.69469,      0.6957,\n",
      "            0.6967,      0.6977,      0.6987,      0.6997,      0.7007,      0.7017,      0.7027,      0.7037,      0.7047,     0.70571,     0.70671,     0.70771,     0.70871,     0.70971,     0.71071,     0.71171,     0.71271,     0.71371,     0.71471,     0.71572,     0.71672,     0.71772,     0.71872,     0.71972,\n",
      "           0.72072,     0.72172,     0.72272,     0.72372,     0.72472,     0.72573,     0.72673,     0.72773,     0.72873,     0.72973,     0.73073,     0.73173,     0.73273,     0.73373,     0.73473,     0.73574,     0.73674,     0.73774,     0.73874,     0.73974,     0.74074,     0.74174,     0.74274,     0.74374,\n",
      "           0.74474,     0.74575,     0.74675,     0.74775,     0.74875,     0.74975,     0.75075,     0.75175,     0.75275,     0.75375,     0.75475,     0.75576,     0.75676,     0.75776,     0.75876,     0.75976,     0.76076,     0.76176,     0.76276,     0.76376,     0.76476,     0.76577,     0.76677,     0.76777,\n",
      "           0.76877,     0.76977,     0.77077,     0.77177,     0.77277,     0.77377,     0.77477,     0.77578,     0.77678,     0.77778,     0.77878,     0.77978,     0.78078,     0.78178,     0.78278,     0.78378,     0.78478,     0.78579,     0.78679,     0.78779,     0.78879,     0.78979,     0.79079,     0.79179,\n",
      "           0.79279,     0.79379,     0.79479,      0.7958,      0.7968,      0.7978,      0.7988,      0.7998,      0.8008,      0.8018,      0.8028,      0.8038,      0.8048,     0.80581,     0.80681,     0.80781,     0.80881,     0.80981,     0.81081,     0.81181,     0.81281,     0.81381,     0.81481,     0.81582,\n",
      "           0.81682,     0.81782,     0.81882,     0.81982,     0.82082,     0.82182,     0.82282,     0.82382,     0.82482,     0.82583,     0.82683,     0.82783,     0.82883,     0.82983,     0.83083,     0.83183,     0.83283,     0.83383,     0.83483,     0.83584,     0.83684,     0.83784,     0.83884,     0.83984,\n",
      "           0.84084,     0.84184,     0.84284,     0.84384,     0.84484,     0.84585,     0.84685,     0.84785,     0.84885,     0.84985,     0.85085,     0.85185,     0.85285,     0.85385,     0.85485,     0.85586,     0.85686,     0.85786,     0.85886,     0.85986,     0.86086,     0.86186,     0.86286,     0.86386,\n",
      "           0.86486,     0.86587,     0.86687,     0.86787,     0.86887,     0.86987,     0.87087,     0.87187,     0.87287,     0.87387,     0.87487,     0.87588,     0.87688,     0.87788,     0.87888,     0.87988,     0.88088,     0.88188,     0.88288,     0.88388,     0.88488,     0.88589,     0.88689,     0.88789,\n",
      "           0.88889,     0.88989,     0.89089,     0.89189,     0.89289,     0.89389,     0.89489,      0.8959,      0.8969,      0.8979,      0.8989,      0.8999,      0.9009,      0.9019,      0.9029,      0.9039,      0.9049,     0.90591,     0.90691,     0.90791,     0.90891,     0.90991,     0.91091,     0.91191,\n",
      "           0.91291,     0.91391,     0.91491,     0.91592,     0.91692,     0.91792,     0.91892,     0.91992,     0.92092,     0.92192,     0.92292,     0.92392,     0.92492,     0.92593,     0.92693,     0.92793,     0.92893,     0.92993,     0.93093,     0.93193,     0.93293,     0.93393,     0.93493,     0.93594,\n",
      "           0.93694,     0.93794,     0.93894,     0.93994,     0.94094,     0.94194,     0.94294,     0.94394,     0.94494,     0.94595,     0.94695,     0.94795,     0.94895,     0.94995,     0.95095,     0.95195,     0.95295,     0.95395,     0.95495,     0.95596,     0.95696,     0.95796,     0.95896,     0.95996,\n",
      "           0.96096,     0.96196,     0.96296,     0.96396,     0.96496,     0.96597,     0.96697,     0.96797,     0.96897,     0.96997,     0.97097,     0.97197,     0.97297,     0.97397,     0.97497,     0.97598,     0.97698,     0.97798,     0.97898,     0.97998,     0.98098,     0.98198,     0.98298,     0.98398,\n",
      "           0.98498,     0.98599,     0.98699,     0.98799,     0.98899,     0.98999,     0.99099,     0.99199,     0.99299,     0.99399,     0.99499,       0.996,       0.997,       0.998,       0.999,           1]), array([[   0.037285,    0.037291,    0.044856, ...,           1,           1,           1],\n",
      "       [   0.019672,    0.019673,    0.027857, ...,           1,           1,           1],\n",
      "       [    0.10309,     0.10309,     0.15291, ...,           1,           1,           1],\n",
      "       ...,\n",
      "       [   0.027504,    0.027504,    0.038637, ...,           1,           1,           1],\n",
      "       [   0.019898,    0.019898,    0.032202, ...,           1,           1,           1],\n",
      "       [   0.034954,    0.035062,    0.049427, ...,           1,           1,           1]]), 'Confidence', 'Precision'], [array([          0,    0.001001,    0.002002,    0.003003,    0.004004,    0.005005,    0.006006,    0.007007,    0.008008,    0.009009,     0.01001,    0.011011,    0.012012,    0.013013,    0.014014,    0.015015,    0.016016,    0.017017,    0.018018,    0.019019,     0.02002,    0.021021,    0.022022,    0.023023,\n",
      "          0.024024,    0.025025,    0.026026,    0.027027,    0.028028,    0.029029,     0.03003,    0.031031,    0.032032,    0.033033,    0.034034,    0.035035,    0.036036,    0.037037,    0.038038,    0.039039,     0.04004,    0.041041,    0.042042,    0.043043,    0.044044,    0.045045,    0.046046,    0.047047,\n",
      "          0.048048,    0.049049,     0.05005,    0.051051,    0.052052,    0.053053,    0.054054,    0.055055,    0.056056,    0.057057,    0.058058,    0.059059,     0.06006,    0.061061,    0.062062,    0.063063,    0.064064,    0.065065,    0.066066,    0.067067,    0.068068,    0.069069,     0.07007,    0.071071,\n",
      "          0.072072,    0.073073,    0.074074,    0.075075,    0.076076,    0.077077,    0.078078,    0.079079,     0.08008,    0.081081,    0.082082,    0.083083,    0.084084,    0.085085,    0.086086,    0.087087,    0.088088,    0.089089,     0.09009,    0.091091,    0.092092,    0.093093,    0.094094,    0.095095,\n",
      "          0.096096,    0.097097,    0.098098,    0.099099,      0.1001,      0.1011,      0.1021,      0.1031,      0.1041,     0.10511,     0.10611,     0.10711,     0.10811,     0.10911,     0.11011,     0.11111,     0.11211,     0.11311,     0.11411,     0.11512,     0.11612,     0.11712,     0.11812,     0.11912,\n",
      "           0.12012,     0.12112,     0.12212,     0.12312,     0.12412,     0.12513,     0.12613,     0.12713,     0.12813,     0.12913,     0.13013,     0.13113,     0.13213,     0.13313,     0.13413,     0.13514,     0.13614,     0.13714,     0.13814,     0.13914,     0.14014,     0.14114,     0.14214,     0.14314,\n",
      "           0.14414,     0.14515,     0.14615,     0.14715,     0.14815,     0.14915,     0.15015,     0.15115,     0.15215,     0.15315,     0.15415,     0.15516,     0.15616,     0.15716,     0.15816,     0.15916,     0.16016,     0.16116,     0.16216,     0.16316,     0.16416,     0.16517,     0.16617,     0.16717,\n",
      "           0.16817,     0.16917,     0.17017,     0.17117,     0.17217,     0.17317,     0.17417,     0.17518,     0.17618,     0.17718,     0.17818,     0.17918,     0.18018,     0.18118,     0.18218,     0.18318,     0.18418,     0.18519,     0.18619,     0.18719,     0.18819,     0.18919,     0.19019,     0.19119,\n",
      "           0.19219,     0.19319,     0.19419,      0.1952,      0.1962,      0.1972,      0.1982,      0.1992,      0.2002,      0.2012,      0.2022,      0.2032,      0.2042,     0.20521,     0.20621,     0.20721,     0.20821,     0.20921,     0.21021,     0.21121,     0.21221,     0.21321,     0.21421,     0.21522,\n",
      "           0.21622,     0.21722,     0.21822,     0.21922,     0.22022,     0.22122,     0.22222,     0.22322,     0.22422,     0.22523,     0.22623,     0.22723,     0.22823,     0.22923,     0.23023,     0.23123,     0.23223,     0.23323,     0.23423,     0.23524,     0.23624,     0.23724,     0.23824,     0.23924,\n",
      "           0.24024,     0.24124,     0.24224,     0.24324,     0.24424,     0.24525,     0.24625,     0.24725,     0.24825,     0.24925,     0.25025,     0.25125,     0.25225,     0.25325,     0.25425,     0.25526,     0.25626,     0.25726,     0.25826,     0.25926,     0.26026,     0.26126,     0.26226,     0.26326,\n",
      "           0.26426,     0.26527,     0.26627,     0.26727,     0.26827,     0.26927,     0.27027,     0.27127,     0.27227,     0.27327,     0.27427,     0.27528,     0.27628,     0.27728,     0.27828,     0.27928,     0.28028,     0.28128,     0.28228,     0.28328,     0.28428,     0.28529,     0.28629,     0.28729,\n",
      "           0.28829,     0.28929,     0.29029,     0.29129,     0.29229,     0.29329,     0.29429,      0.2953,      0.2963,      0.2973,      0.2983,      0.2993,      0.3003,      0.3013,      0.3023,      0.3033,      0.3043,     0.30531,     0.30631,     0.30731,     0.30831,     0.30931,     0.31031,     0.31131,\n",
      "           0.31231,     0.31331,     0.31431,     0.31532,     0.31632,     0.31732,     0.31832,     0.31932,     0.32032,     0.32132,     0.32232,     0.32332,     0.32432,     0.32533,     0.32633,     0.32733,     0.32833,     0.32933,     0.33033,     0.33133,     0.33233,     0.33333,     0.33433,     0.33534,\n",
      "           0.33634,     0.33734,     0.33834,     0.33934,     0.34034,     0.34134,     0.34234,     0.34334,     0.34434,     0.34535,     0.34635,     0.34735,     0.34835,     0.34935,     0.35035,     0.35135,     0.35235,     0.35335,     0.35435,     0.35536,     0.35636,     0.35736,     0.35836,     0.35936,\n",
      "           0.36036,     0.36136,     0.36236,     0.36336,     0.36436,     0.36537,     0.36637,     0.36737,     0.36837,     0.36937,     0.37037,     0.37137,     0.37237,     0.37337,     0.37437,     0.37538,     0.37638,     0.37738,     0.37838,     0.37938,     0.38038,     0.38138,     0.38238,     0.38338,\n",
      "           0.38438,     0.38539,     0.38639,     0.38739,     0.38839,     0.38939,     0.39039,     0.39139,     0.39239,     0.39339,     0.39439,      0.3954,      0.3964,      0.3974,      0.3984,      0.3994,      0.4004,      0.4014,      0.4024,      0.4034,      0.4044,     0.40541,     0.40641,     0.40741,\n",
      "           0.40841,     0.40941,     0.41041,     0.41141,     0.41241,     0.41341,     0.41441,     0.41542,     0.41642,     0.41742,     0.41842,     0.41942,     0.42042,     0.42142,     0.42242,     0.42342,     0.42442,     0.42543,     0.42643,     0.42743,     0.42843,     0.42943,     0.43043,     0.43143,\n",
      "           0.43243,     0.43343,     0.43443,     0.43544,     0.43644,     0.43744,     0.43844,     0.43944,     0.44044,     0.44144,     0.44244,     0.44344,     0.44444,     0.44545,     0.44645,     0.44745,     0.44845,     0.44945,     0.45045,     0.45145,     0.45245,     0.45345,     0.45445,     0.45546,\n",
      "           0.45646,     0.45746,     0.45846,     0.45946,     0.46046,     0.46146,     0.46246,     0.46346,     0.46446,     0.46547,     0.46647,     0.46747,     0.46847,     0.46947,     0.47047,     0.47147,     0.47247,     0.47347,     0.47447,     0.47548,     0.47648,     0.47748,     0.47848,     0.47948,\n",
      "           0.48048,     0.48148,     0.48248,     0.48348,     0.48448,     0.48549,     0.48649,     0.48749,     0.48849,     0.48949,     0.49049,     0.49149,     0.49249,     0.49349,     0.49449,      0.4955,      0.4965,      0.4975,      0.4985,      0.4995,      0.5005,      0.5015,      0.5025,      0.5035,\n",
      "            0.5045,     0.50551,     0.50651,     0.50751,     0.50851,     0.50951,     0.51051,     0.51151,     0.51251,     0.51351,     0.51451,     0.51552,     0.51652,     0.51752,     0.51852,     0.51952,     0.52052,     0.52152,     0.52252,     0.52352,     0.52452,     0.52553,     0.52653,     0.52753,\n",
      "           0.52853,     0.52953,     0.53053,     0.53153,     0.53253,     0.53353,     0.53453,     0.53554,     0.53654,     0.53754,     0.53854,     0.53954,     0.54054,     0.54154,     0.54254,     0.54354,     0.54454,     0.54555,     0.54655,     0.54755,     0.54855,     0.54955,     0.55055,     0.55155,\n",
      "           0.55255,     0.55355,     0.55455,     0.55556,     0.55656,     0.55756,     0.55856,     0.55956,     0.56056,     0.56156,     0.56256,     0.56356,     0.56456,     0.56557,     0.56657,     0.56757,     0.56857,     0.56957,     0.57057,     0.57157,     0.57257,     0.57357,     0.57457,     0.57558,\n",
      "           0.57658,     0.57758,     0.57858,     0.57958,     0.58058,     0.58158,     0.58258,     0.58358,     0.58458,     0.58559,     0.58659,     0.58759,     0.58859,     0.58959,     0.59059,     0.59159,     0.59259,     0.59359,     0.59459,      0.5956,      0.5966,      0.5976,      0.5986,      0.5996,\n",
      "            0.6006,      0.6016,      0.6026,      0.6036,      0.6046,     0.60561,     0.60661,     0.60761,     0.60861,     0.60961,     0.61061,     0.61161,     0.61261,     0.61361,     0.61461,     0.61562,     0.61662,     0.61762,     0.61862,     0.61962,     0.62062,     0.62162,     0.62262,     0.62362,\n",
      "           0.62462,     0.62563,     0.62663,     0.62763,     0.62863,     0.62963,     0.63063,     0.63163,     0.63263,     0.63363,     0.63463,     0.63564,     0.63664,     0.63764,     0.63864,     0.63964,     0.64064,     0.64164,     0.64264,     0.64364,     0.64464,     0.64565,     0.64665,     0.64765,\n",
      "           0.64865,     0.64965,     0.65065,     0.65165,     0.65265,     0.65365,     0.65465,     0.65566,     0.65666,     0.65766,     0.65866,     0.65966,     0.66066,     0.66166,     0.66266,     0.66366,     0.66466,     0.66567,     0.66667,     0.66767,     0.66867,     0.66967,     0.67067,     0.67167,\n",
      "           0.67267,     0.67367,     0.67467,     0.67568,     0.67668,     0.67768,     0.67868,     0.67968,     0.68068,     0.68168,     0.68268,     0.68368,     0.68468,     0.68569,     0.68669,     0.68769,     0.68869,     0.68969,     0.69069,     0.69169,     0.69269,     0.69369,     0.69469,      0.6957,\n",
      "            0.6967,      0.6977,      0.6987,      0.6997,      0.7007,      0.7017,      0.7027,      0.7037,      0.7047,     0.70571,     0.70671,     0.70771,     0.70871,     0.70971,     0.71071,     0.71171,     0.71271,     0.71371,     0.71471,     0.71572,     0.71672,     0.71772,     0.71872,     0.71972,\n",
      "           0.72072,     0.72172,     0.72272,     0.72372,     0.72472,     0.72573,     0.72673,     0.72773,     0.72873,     0.72973,     0.73073,     0.73173,     0.73273,     0.73373,     0.73473,     0.73574,     0.73674,     0.73774,     0.73874,     0.73974,     0.74074,     0.74174,     0.74274,     0.74374,\n",
      "           0.74474,     0.74575,     0.74675,     0.74775,     0.74875,     0.74975,     0.75075,     0.75175,     0.75275,     0.75375,     0.75475,     0.75576,     0.75676,     0.75776,     0.75876,     0.75976,     0.76076,     0.76176,     0.76276,     0.76376,     0.76476,     0.76577,     0.76677,     0.76777,\n",
      "           0.76877,     0.76977,     0.77077,     0.77177,     0.77277,     0.77377,     0.77477,     0.77578,     0.77678,     0.77778,     0.77878,     0.77978,     0.78078,     0.78178,     0.78278,     0.78378,     0.78478,     0.78579,     0.78679,     0.78779,     0.78879,     0.78979,     0.79079,     0.79179,\n",
      "           0.79279,     0.79379,     0.79479,      0.7958,      0.7968,      0.7978,      0.7988,      0.7998,      0.8008,      0.8018,      0.8028,      0.8038,      0.8048,     0.80581,     0.80681,     0.80781,     0.80881,     0.80981,     0.81081,     0.81181,     0.81281,     0.81381,     0.81481,     0.81582,\n",
      "           0.81682,     0.81782,     0.81882,     0.81982,     0.82082,     0.82182,     0.82282,     0.82382,     0.82482,     0.82583,     0.82683,     0.82783,     0.82883,     0.82983,     0.83083,     0.83183,     0.83283,     0.83383,     0.83483,     0.83584,     0.83684,     0.83784,     0.83884,     0.83984,\n",
      "           0.84084,     0.84184,     0.84284,     0.84384,     0.84484,     0.84585,     0.84685,     0.84785,     0.84885,     0.84985,     0.85085,     0.85185,     0.85285,     0.85385,     0.85485,     0.85586,     0.85686,     0.85786,     0.85886,     0.85986,     0.86086,     0.86186,     0.86286,     0.86386,\n",
      "           0.86486,     0.86587,     0.86687,     0.86787,     0.86887,     0.86987,     0.87087,     0.87187,     0.87287,     0.87387,     0.87487,     0.87588,     0.87688,     0.87788,     0.87888,     0.87988,     0.88088,     0.88188,     0.88288,     0.88388,     0.88488,     0.88589,     0.88689,     0.88789,\n",
      "           0.88889,     0.88989,     0.89089,     0.89189,     0.89289,     0.89389,     0.89489,      0.8959,      0.8969,      0.8979,      0.8989,      0.8999,      0.9009,      0.9019,      0.9029,      0.9039,      0.9049,     0.90591,     0.90691,     0.90791,     0.90891,     0.90991,     0.91091,     0.91191,\n",
      "           0.91291,     0.91391,     0.91491,     0.91592,     0.91692,     0.91792,     0.91892,     0.91992,     0.92092,     0.92192,     0.92292,     0.92392,     0.92492,     0.92593,     0.92693,     0.92793,     0.92893,     0.92993,     0.93093,     0.93193,     0.93293,     0.93393,     0.93493,     0.93594,\n",
      "           0.93694,     0.93794,     0.93894,     0.93994,     0.94094,     0.94194,     0.94294,     0.94394,     0.94494,     0.94595,     0.94695,     0.94795,     0.94895,     0.94995,     0.95095,     0.95195,     0.95295,     0.95395,     0.95495,     0.95596,     0.95696,     0.95796,     0.95896,     0.95996,\n",
      "           0.96096,     0.96196,     0.96296,     0.96396,     0.96496,     0.96597,     0.96697,     0.96797,     0.96897,     0.96997,     0.97097,     0.97197,     0.97297,     0.97397,     0.97497,     0.97598,     0.97698,     0.97798,     0.97898,     0.97998,     0.98098,     0.98198,     0.98298,     0.98398,\n",
      "           0.98498,     0.98599,     0.98699,     0.98799,     0.98899,     0.98999,     0.99099,     0.99199,     0.99299,     0.99399,     0.99499,       0.996,       0.997,       0.998,       0.999,           1]), array([[    0.85864,     0.85864,     0.85079, ...,           0,           0,           0],\n",
      "       [    0.76056,     0.76056,     0.76056, ...,           0,           0,           0],\n",
      "       [    0.96491,     0.96491,     0.95614, ...,           0,           0,           0],\n",
      "       ...,\n",
      "       [      0.975,       0.975,        0.95, ...,           0,           0,           0],\n",
      "       [     0.7963,      0.7963,     0.77778, ...,           0,           0,           0],\n",
      "       [    0.95833,     0.95833,     0.91667, ...,           0,           0,           0]]), 'Confidence', 'Recall']]\n",
      "fitness: np.float64(0.3588070408836074)\n",
      "keys: ['metrics/precision(B)', 'metrics/recall(B)', 'metrics/mAP50(B)', 'metrics/mAP50-95(B)']\n",
      "maps: array([    0.16097,    0.057701,     0.53534,     0.23777,     0.20487,     0.72538,     0.72459,     0.25423,     0.33358,     0.25008,     0.19759,     0.32085])\n",
      "names: {0: 'Acne', 1: 'Chickenpox', 2: 'Eczema', 3: 'Monkeypox', 4: 'Pimple', 5: 'Psoriasis', 6: 'Ringworm', 7: 'basal cell carcinoma', 8: 'melanoma', 9: 'tinea-versicolor', 10: 'vitiligo', 11: 'warts'}\n",
      "plot: True\n",
      "results_dict: {'metrics/precision(B)': np.float64(0.5836584748819162), 'metrics/recall(B)': np.float64(0.5780554818679083), 'metrics/mAP50(B)': np.float64(0.5858598838969766), 'metrics/mAP50-95(B)': np.float64(0.3335789472154553), 'fitness': np.float64(0.3588070408836074)}\n",
      "save_dir: WindowsPath('C:/Users/susan/runs/detect/train402')\n",
      "speed: {'preprocess': 0.35812954543375364, 'inference': 7.60676590901064, 'loss': 0.0005924242059611997, 'postprocess': 0.794604166692421}\n",
      "task: 'detect'\n"
     ]
    }
   ],
   "source": [
    "# Load YOLOv8 model (pretrained)\n",
    "model = YOLO(\"yolov8n.pt\")  # Start with 'yolov8n.pt' (nano), then fine-tune\n",
    "\n",
    "# Train model on custom dataset\n",
    "results = model.train(\n",
    "    data=\"skin-diseases-1/data.yaml\",  # Your dataset in YOLO format\n",
    "    epochs=50, \n",
    "    batch=16,\n",
    "    imgsz=640,  \n",
    "    device=\"cuda\",\n",
    "    workers=0\n",
    ")\n",
    "metrics = model.val()\n",
    "print(metrics)"
   ]
  },
  {
   "cell_type": "code",
   "execution_count": 8,
   "id": "5dcfab0b-e73b-4efa-9779-a06f8f335f05",
   "metadata": {},
   "outputs": [
    {
     "name": "stdout",
     "output_type": "stream",
     "text": [
      "Defaulting to user installation because normal site-packages is not writeable\n",
      "Requirement already satisfied: scikit-learn in c:\\users\\susan\\appdata\\roaming\\python\\python310\\site-packages (1.6.1)\n",
      "Requirement already satisfied: numpy>=1.19.5 in c:\\users\\susan\\appdata\\roaming\\python\\python310\\site-packages (from scikit-learn) (2.0.2)\n",
      "Requirement already satisfied: scipy>=1.6.0 in c:\\users\\susan\\appdata\\roaming\\python\\python310\\site-packages (from scikit-learn) (1.15.2)\n",
      "Requirement already satisfied: joblib>=1.2.0 in c:\\users\\susan\\appdata\\roaming\\python\\python310\\site-packages (from scikit-learn) (1.4.2)\n",
      "Requirement already satisfied: threadpoolctl>=3.1.0 in c:\\users\\susan\\appdata\\roaming\\python\\python310\\site-packages (from scikit-learn) (3.6.0)\n"
     ]
    }
   ],
   "source": [
    "!pip install scikit-learn"
   ]
  },
  {
   "cell_type": "code",
   "execution_count": 14,
   "id": "d032c788-7da4-4bc8-9e28-5cacb58ffc15",
   "metadata": {},
   "outputs": [
    {
     "name": "stdout",
     "output_type": "stream",
     "text": [
      "\n",
      "image 1/193 C:\\Users\\susan\\OneDrive\\Desktop\\cursorai-project\\project\\skin-diseases-1\\test\\images\\3_12_jpg.rf.8888b7e46ead73fdca6f4c86517bd107.jpg: 640x640 (no detections), 91.9ms\n",
      "image 2/193 C:\\Users\\susan\\OneDrive\\Desktop\\cursorai-project\\project\\skin-diseases-1\\test\\images\\6_70_jpg.rf.18736b4eb5f756eafe325f3d3633cbe9.jpg: 640x640 4 Ringworms, 91.2ms\n",
      "image 3/193 C:\\Users\\susan\\OneDrive\\Desktop\\cursorai-project\\project\\skin-diseases-1\\test\\images\\7_3_jpg.rf.60ae5e39726668f0cfce26f20c0d16f1.jpg: 640x640 1 Ringworm, 89.9ms\n",
      "image 4/193 C:\\Users\\susan\\OneDrive\\Desktop\\cursorai-project\\project\\skin-diseases-1\\test\\images\\800px-Yeartinfection-Copy_jpg.rf.a9311549ad818844d084e5221d538cd2.jpg: 640x640 1 Ringworm, 10.7ms\n",
      "image 5/193 C:\\Users\\susan\\OneDrive\\Desktop\\cursorai-project\\project\\skin-diseases-1\\test\\images\\CHP_03_01_jpg.rf.578f1344bbda97e4ed6e76f417c185d7.jpg: 640x640 3 Chickenpoxs, 10.7ms\n",
      "image 6/193 C:\\Users\\susan\\OneDrive\\Desktop\\cursorai-project\\project\\skin-diseases-1\\test\\images\\CHP_06_01_jpg.rf.b9148e902f5e11589f702f3d75a00665.jpg: 640x640 1 Chickenpox, 10.8ms\n",
      "image 7/193 C:\\Users\\susan\\OneDrive\\Desktop\\cursorai-project\\project\\skin-diseases-1\\test\\images\\CHP_15_01_jpg.rf.02bbd1d64e62daa2472d5a3a2bf81c94.jpg: 640x640 2 Chickenpoxs, 10.8ms\n",
      "image 8/193 C:\\Users\\susan\\OneDrive\\Desktop\\cursorai-project\\project\\skin-diseases-1\\test\\images\\CHP_29_01_jpg.rf.b2850df9cd0d42199b3c9ade6cca6eb7.jpg: 640x640 (no detections), 11.7ms\n",
      "image 9/193 C:\\Users\\susan\\OneDrive\\Desktop\\cursorai-project\\project\\skin-diseases-1\\test\\images\\CHP_44_01_jpg.rf.1dbc0d5fae2e096c451a881040c5b3ef.jpg: 640x640 1 Acne, 12.0ms\n",
      "image 10/193 C:\\Users\\susan\\OneDrive\\Desktop\\cursorai-project\\project\\skin-diseases-1\\test\\images\\CHP_50_01_jpg.rf.ebe5dda031e50e45941d24b033540113.jpg: 640x640 4 Chickenpoxs, 10.5ms\n",
      "image 11/193 C:\\Users\\susan\\OneDrive\\Desktop\\cursorai-project\\project\\skin-diseases-1\\test\\images\\CT07BH_3YG697J-max-600x600-Copy_png.rf.a6adbc370ba7a6ea6d59577616b9bc61.jpg: 640x640 1 Ringworm, 10.6ms\n",
      "image 12/193 C:\\Users\\susan\\OneDrive\\Desktop\\cursorai-project\\project\\skin-diseases-1\\test\\images\\Capturef-Copy_PNG.rf.8f30b7eaf35c7ea8e582d56aa9160a49.jpg: 640x640 1 Ringworm, 10.5ms\n",
      "image 13/193 C:\\Users\\susan\\OneDrive\\Desktop\\cursorai-project\\project\\skin-diseases-1\\test\\images\\MKP_01_04_jpg.rf.f7b2a16dbe01e58bb569017e9843c3a9.jpg: 640x640 1 Monkeypox, 9.0ms\n",
      "image 14/193 C:\\Users\\susan\\OneDrive\\Desktop\\cursorai-project\\project\\skin-diseases-1\\test\\images\\MKP_06_01_jpg.rf.1e50589d5d2aeb0b1e382f518487936d.jpg: 640x640 2 Monkeypoxs, 8.2ms\n",
      "image 15/193 C:\\Users\\susan\\OneDrive\\Desktop\\cursorai-project\\project\\skin-diseases-1\\test\\images\\MKP_15_01_jpg.rf.1bbfa60cf82c5047e8d488d6b97c9f32.jpg: 640x640 1 Monkeypox, 8.2ms\n",
      "image 16/193 C:\\Users\\susan\\OneDrive\\Desktop\\cursorai-project\\project\\skin-diseases-1\\test\\images\\MKP_43_02-Copy_jpg.rf.55966ad9fc51785a95a42b9ee8a2f137.jpg: 640x640 5 Monkeypoxs, 8.4ms\n",
      "image 17/193 C:\\Users\\susan\\OneDrive\\Desktop\\cursorai-project\\project\\skin-diseases-1\\test\\images\\MKP_83_04-Copy_jpg.rf.755ee6d088ea0980b25be002630422f6.jpg: 640x640 1 Chickenpox, 8.4ms\n",
      "image 18/193 C:\\Users\\susan\\OneDrive\\Desktop\\cursorai-project\\project\\skin-diseases-1\\test\\images\\PS-10-_jpg.rf.b5445d088ea3896a72380f29075b931f.jpg: 640x640 1 Psoriasis, 8.2ms\n",
      "image 19/193 C:\\Users\\susan\\OneDrive\\Desktop\\cursorai-project\\project\\skin-diseases-1\\test\\images\\PS-15-_jpg.rf.d9195b5ff2f4ddb4e014163731f4a617.jpg: 640x640 1 Psoriasis, 8.2ms\n",
      "image 20/193 C:\\Users\\susan\\OneDrive\\Desktop\\cursorai-project\\project\\skin-diseases-1\\test\\images\\PS-17-_jpg.rf.3b87fb88254ae2eac2e1d158a5bb4c6b.jpg: 640x640 2 Psoriasiss, 8.2ms\n",
      "image 21/193 C:\\Users\\susan\\OneDrive\\Desktop\\cursorai-project\\project\\skin-diseases-1\\test\\images\\PS-21-_jpg.rf.17e3bc7c2d2d97ac3a3fff1e0a4cd1d1.jpg: 640x640 2 Psoriasiss, 8.2ms\n",
      "image 22/193 C:\\Users\\susan\\OneDrive\\Desktop\\cursorai-project\\project\\skin-diseases-1\\test\\images\\PS-24-_jpg.rf.f71d5fee4ae43cfed79661a132b5af5e.jpg: 640x640 2 Psoriasiss, 8.2ms\n",
      "image 23/193 C:\\Users\\susan\\OneDrive\\Desktop\\cursorai-project\\project\\skin-diseases-1\\test\\images\\PS-29-_jpg.rf.86525f681049c3f0b4c1f4e6c4b2d953.jpg: 640x640 1 Chickenpox, 1 Psoriasis, 8.3ms\n",
      "image 24/193 C:\\Users\\susan\\OneDrive\\Desktop\\cursorai-project\\project\\skin-diseases-1\\test\\images\\PS-3-_jpg.rf.aa65cbf2c29c29f46013c6f87c336df9.jpg: 640x640 1 Psoriasis, 12.0ms\n",
      "image 25/193 C:\\Users\\susan\\OneDrive\\Desktop\\cursorai-project\\project\\skin-diseases-1\\test\\images\\PS-32-_jpg.rf.9bd73865dae919309ea7849b786aba51.jpg: 640x640 1 Psoriasis, 12.2ms\n",
      "image 26/193 C:\\Users\\susan\\OneDrive\\Desktop\\cursorai-project\\project\\skin-diseases-1\\test\\images\\PS-8-_jpg.rf.4db5a295583a140e8b894335e189d2d5.jpg: 640x640 2 Psoriasiss, 12.7ms\n",
      "image 27/193 C:\\Users\\susan\\OneDrive\\Desktop\\cursorai-project\\project\\skin-diseases-1\\test\\images\\PSD-10-_jpg.rf.9738579be6426b7a61c0bfe617223881.jpg: 640x640 1 Psoriasis, 7.1ms\n",
      "image 28/193 C:\\Users\\susan\\OneDrive\\Desktop\\cursorai-project\\project\\skin-diseases-1\\test\\images\\PSD-12-_jpg.rf.7436bed1dbaeabec574a9ef55dfabf27.jpg: 640x640 1 Psoriasis, 7.7ms\n",
      "image 29/193 C:\\Users\\susan\\OneDrive\\Desktop\\cursorai-project\\project\\skin-diseases-1\\test\\images\\PSD-13-_jpg.rf.d7e9880d3fe9954d89bc73eea753a334.jpg: 640x640 1 Psoriasis, 7.1ms\n",
      "image 30/193 C:\\Users\\susan\\OneDrive\\Desktop\\cursorai-project\\project\\skin-diseases-1\\test\\images\\PSD-14-_JPG_jpg.rf.1e19959f8a179d6ce5a723cab8aef4ee.jpg: 640x640 1 Psoriasis, 7.1ms\n",
      "image 31/193 C:\\Users\\susan\\OneDrive\\Desktop\\cursorai-project\\project\\skin-diseases-1\\test\\images\\PSD-15-_jpg.rf.3ef3293f66fe38644b7f63d1165ce524.jpg: 640x640 1 Psoriasis, 7.0ms\n",
      "image 32/193 C:\\Users\\susan\\OneDrive\\Desktop\\cursorai-project\\project\\skin-diseases-1\\test\\images\\PSD-16-_jpg.rf.5638dbae3a2237ab9ef8b3765333efa2.jpg: 640x640 2 Psoriasiss, 7.1ms\n",
      "image 33/193 C:\\Users\\susan\\OneDrive\\Desktop\\cursorai-project\\project\\skin-diseases-1\\test\\images\\PSD-17-_jpg.rf.6dc8d485630fde5065371622b550cd43.jpg: 640x640 1 Psoriasis, 7.0ms\n",
      "image 34/193 C:\\Users\\susan\\OneDrive\\Desktop\\cursorai-project\\project\\skin-diseases-1\\test\\images\\PSD-17-_jpg.rf.9de9b96125115dca33f707d534b2d6eb.jpg: 640x640 1 Psoriasis, 7.1ms\n",
      "image 35/193 C:\\Users\\susan\\OneDrive\\Desktop\\cursorai-project\\project\\skin-diseases-1\\test\\images\\PSD-20-_jpg.rf.848260dd3a192d1642e19f5a6bed1858.jpg: 640x640 2 Psoriasiss, 7.0ms\n",
      "image 36/193 C:\\Users\\susan\\OneDrive\\Desktop\\cursorai-project\\project\\skin-diseases-1\\test\\images\\PSD-22-_jpg.rf.e3b2b5e2449d5804b405ff97807cf388.jpg: 640x640 2 Psoriasiss, 7.0ms\n",
      "image 37/193 C:\\Users\\susan\\OneDrive\\Desktop\\cursorai-project\\project\\skin-diseases-1\\test\\images\\PSD-25-_jpg.rf.e8e74bede5c88c1e0043f72da6b92492.jpg: 640x640 1 Psoriasis, 7.0ms\n",
      "image 38/193 C:\\Users\\susan\\OneDrive\\Desktop\\cursorai-project\\project\\skin-diseases-1\\test\\images\\PSD-3-_jpg.rf.5c5811deb9e90c15533dff783e2c31ba.jpg: 640x640 2 Psoriasiss, 7.0ms\n",
      "image 39/193 C:\\Users\\susan\\OneDrive\\Desktop\\cursorai-project\\project\\skin-diseases-1\\test\\images\\PSD-8-_jpg.rf.0e7e5545ad395617baf4f4401dfa3e29.jpg: 640x640 1 Psoriasis, 7.8ms\n",
      "image 40/193 C:\\Users\\susan\\OneDrive\\Desktop\\cursorai-project\\project\\skin-diseases-1\\test\\images\\PSD-9-_JPG_jpg.rf.23c589bdd8d9783c4321978729bc58ed.jpg: 640x640 1 Psoriasis, 12.1ms\n",
      "image 41/193 C:\\Users\\susan\\OneDrive\\Desktop\\cursorai-project\\project\\skin-diseases-1\\test\\images\\Pityriasis-rosea-rash91_png_jpg.rf.adc906ca1bbeddf6bff80d5687d7efb7.jpg: 640x640 4 Ringworms, 12.3ms\n",
      "image 42/193 C:\\Users\\susan\\OneDrive\\Desktop\\cursorai-project\\project\\skin-diseases-1\\test\\images\\acne-268-v2__ProtectWyJQcm90ZWN0Il0_FocusFillWzI5NCwyMjIsIngiLDFd_jpg.rf.4da4826153ff5fe04637e942bd32839b.jpg: 640x640 5 Acnes, 7.0ms\n",
      "image 43/193 C:\\Users\\susan\\OneDrive\\Desktop\\cursorai-project\\project\\skin-diseases-1\\test\\images\\acne-comedones-57-v2__ProtectWyJQcm90ZWN0Il0_FocusFillWzI5NCwyMjIsIngiLDE3XQ_jpg.rf.46322fa96abb6a184442c874369ec7d1.jpg: 640x640 5 Acnes, 9.4ms\n",
      "image 44/193 C:\\Users\\susan\\OneDrive\\Desktop\\cursorai-project\\project\\skin-diseases-1\\test\\images\\acne-face-1-10__ProtectWyJQcm90ZWN0Il0_FocusFillWzI5NCwyMjIsIngiLDFd_jpg.rf.7fcadd779e9e5aefc4b1a24379553577.jpg: 640x640 8 Acnes, 11.8ms\n",
      "image 45/193 C:\\Users\\susan\\OneDrive\\Desktop\\cursorai-project\\project\\skin-diseases-1\\test\\images\\acne-face-1-11__ProtectWyJQcm90ZWN0Il0_FocusFillWzI5NCwyMjIsIngiLDE4XQ_jpg.rf.14f863a292abeacdbc034ddd4e814c00.jpg: 640x640 5 Acnes, 12.1ms\n",
      "image 46/193 C:\\Users\\susan\\OneDrive\\Desktop\\cursorai-project\\project\\skin-diseases-1\\test\\images\\acne-face-1-11__ProtectWyJQcm90ZWN0Il0_FocusFillWzI5NCwyMjIsIngiLDE4XQ_jpg.rf.e31ff1dd948da44c360594a58a1973ad.jpg: 640x640 3 Acnes, 12.2ms\n",
      "image 47/193 C:\\Users\\susan\\OneDrive\\Desktop\\cursorai-project\\project\\skin-diseases-1\\test\\images\\acne-face-1-15__ProtectWyJQcm90ZWN0Il0_FocusFillWzI5NCwyMjIsIngiLDFd_jpg.rf.8cef091fd434950635fcd1eaf6e32fda.jpg: 640x640 3 Acnes, 11.3ms\n",
      "image 48/193 C:\\Users\\susan\\OneDrive\\Desktop\\cursorai-project\\project\\skin-diseases-1\\test\\images\\acne-face-1-26__ProtectWyJQcm90ZWN0Il0_FocusFillWzI5NCwyMjIsIngiLDFd_jpg.rf.29ecc63daaea306a4ac8483d2ab08dc9.jpg: 640x640 (no detections), 9.3ms\n",
      "image 49/193 C:\\Users\\susan\\OneDrive\\Desktop\\cursorai-project\\project\\skin-diseases-1\\test\\images\\acne-face-1-28__ProtectWyJQcm90ZWN0Il0_FocusFillWzI5NCwyMjIsIngiLDFd_jpg.rf.e7e46b7432ee13e5d089620f591cfc1d.jpg: 640x640 11 Acnes, 12.7ms\n",
      "image 50/193 C:\\Users\\susan\\OneDrive\\Desktop\\cursorai-project\\project\\skin-diseases-1\\test\\images\\acne-face-1-29__ProtectWyJQcm90ZWN0Il0_FocusFillWzI5NCwyMjIsIngiLDFd_jpg.rf.ec2c9f08815363ba9835668a459c1118.jpg: 640x640 9 Acnes, 13.2ms\n",
      "image 51/193 C:\\Users\\susan\\OneDrive\\Desktop\\cursorai-project\\project\\skin-diseases-1\\test\\images\\acne-face-1-30__ProtectWyJQcm90ZWN0Il0_FocusFillWzI5NCwyMjIsIngiLDFd_jpg.rf.33e528e018fcfc0ddeb5f93e5cd86a0a.jpg: 640x640 14 Acnes, 12.2ms\n",
      "image 52/193 C:\\Users\\susan\\OneDrive\\Desktop\\cursorai-project\\project\\skin-diseases-1\\test\\images\\acne-face-1-30__ProtectWyJQcm90ZWN0Il0_FocusFillWzI5NCwyMjIsIngiLDFd_jpg.rf.82bd6ae3db4b4c1e0edc37c2d0664a8f.jpg: 640x640 10 Acnes, 11.0ms\n",
      "image 53/193 C:\\Users\\susan\\OneDrive\\Desktop\\cursorai-project\\project\\skin-diseases-1\\test\\images\\acne-face-1-32__ProtectWyJQcm90ZWN0Il0_FocusFillWzI5NCwyMjIsIngiLDIwXQ_jpg.rf.055c86cb472b66c307c18221293fdb5d.jpg: 640x640 6 Acnes, 7.0ms\n",
      "image 54/193 C:\\Users\\susan\\OneDrive\\Desktop\\cursorai-project\\project\\skin-diseases-1\\test\\images\\acne-face-1-37__ProtectWyJQcm90ZWN0Il0_FocusFillWzI5NCwyMjIsIngiLDFd_jpg.rf.1a9db8a827e9c049a0d87b5915db42e3.jpg: 640x640 3 Acnes, 7.4ms\n",
      "image 55/193 C:\\Users\\susan\\OneDrive\\Desktop\\cursorai-project\\project\\skin-diseases-1\\test\\images\\acne-face-1-3__ProtectWyJQcm90ZWN0Il0_FocusFillWzI5NCwyMjIsIngiLDFd_jpg.rf.1ae2fb3b3bbf5e6a39329b473c182b49.jpg: 640x640 1 Acne, 9.0ms\n",
      "image 56/193 C:\\Users\\susan\\OneDrive\\Desktop\\cursorai-project\\project\\skin-diseases-1\\test\\images\\acne-face-1-3__ProtectWyJQcm90ZWN0Il0_FocusFillWzI5NCwyMjIsIngiLDFd_jpg.rf.326279394d669b3475e09c32bd73b242.jpg: 640x640 (no detections), 12.4ms\n",
      "image 57/193 C:\\Users\\susan\\OneDrive\\Desktop\\cursorai-project\\project\\skin-diseases-1\\test\\images\\acne-face-1-40__ProtectWyJQcm90ZWN0Il0_FocusFillWzI5NCwyMjIsInkiLDUyXQ_jpg.rf.4f48c0df3bb7f432aeb8e3dea6576efe.jpg: 640x640 2 Acnes, 12.7ms\n",
      "image 58/193 C:\\Users\\susan\\OneDrive\\Desktop\\cursorai-project\\project\\skin-diseases-1\\test\\images\\acne-face-1-40__ProtectWyJQcm90ZWN0Il0_FocusFillWzI5NCwyMjIsInkiLDUyXQ_jpg.rf.dc23e04a9e327660899d10b2284b3c4a.jpg: 640x640 6 Acnes, 7.0ms\n",
      "image 59/193 C:\\Users\\susan\\OneDrive\\Desktop\\cursorai-project\\project\\skin-diseases-1\\test\\images\\acne-face-1-41__ProtectWyJQcm90ZWN0Il0_FocusFillWzI5NCwyMjIsInkiLDMxXQ_jpg.rf.d60b404aff1049e8d4ab3cb202c8bd3f.jpg: 640x640 4 Acnes, 7.0ms\n",
      "image 60/193 C:\\Users\\susan\\OneDrive\\Desktop\\cursorai-project\\project\\skin-diseases-1\\test\\images\\acne-face-1-42__ProtectWyJQcm90ZWN0Il0_FocusFillWzI5NCwyMjIsIngiLDFd_jpg.rf.918f889bf5539908381adce59a0c4e1d.jpg: 640x640 2 Acnes, 7.0ms\n",
      "image 61/193 C:\\Users\\susan\\OneDrive\\Desktop\\cursorai-project\\project\\skin-diseases-1\\test\\images\\acne-face-1-43__ProtectWyJQcm90ZWN0Il0_FocusFillWzI5NCwyMjIsIngiLDFd_jpg.rf.b5ae425854af1be886977670f18c2800.jpg: 640x640 10 Acnes, 7.0ms\n",
      "image 62/193 C:\\Users\\susan\\OneDrive\\Desktop\\cursorai-project\\project\\skin-diseases-1\\test\\images\\acne-face-1-44__ProtectWyJQcm90ZWN0Il0_FocusFillWzI5NCwyMjIsInkiLDg1XQ_jpg.rf.1e264ccfc5fb9a30da7e5961a1a363ce.jpg: 640x640 (no detections), 7.0ms\n",
      "image 63/193 C:\\Users\\susan\\OneDrive\\Desktop\\cursorai-project\\project\\skin-diseases-1\\test\\images\\acne-face-1-45__ProtectWyJQcm90ZWN0Il0_FocusFillWzI5NCwyMjIsIngiLDFd_jpg.rf.035a0541f0eb078e26a60fa994c966ff.jpg: 640x640 2 Acnes, 7.0ms\n",
      "image 64/193 C:\\Users\\susan\\OneDrive\\Desktop\\cursorai-project\\project\\skin-diseases-1\\test\\images\\acne-face-1-45__ProtectWyJQcm90ZWN0Il0_FocusFillWzI5NCwyMjIsIngiLDFd_jpg.rf.18b10cad6589d9638a4b0b193efcbf47.jpg: 640x640 2 Acnes, 7.3ms\n",
      "image 65/193 C:\\Users\\susan\\OneDrive\\Desktop\\cursorai-project\\project\\skin-diseases-1\\test\\images\\acne-face-1-48__ProtectWyJQcm90ZWN0Il0_FocusFillWzI5NCwyMjIsIngiLDFd_jpg.rf.0b94ee971fe7251e9d343e95cdf1bdb8.jpg: 640x640 5 Acnes, 8.1ms\n",
      "image 66/193 C:\\Users\\susan\\OneDrive\\Desktop\\cursorai-project\\project\\skin-diseases-1\\test\\images\\acne-face-1-4__ProtectWyJQcm90ZWN0Il0_FocusFillWzI5NCwyMjIsIngiLDFd_jpg.rf.2def1e0638b2eb4663705d0c18bb3046.jpg: 640x640 (no detections), 7.0ms\n",
      "image 67/193 C:\\Users\\susan\\OneDrive\\Desktop\\cursorai-project\\project\\skin-diseases-1\\test\\images\\acne-face-1-51__ProtectWyJQcm90ZWN0Il0_FocusFillWzI5NCwyMjIsIngiLDFd_jpg.rf.d690294f3f3ffd77b414194a49148320.jpg: 640x640 8 Acnes, 7.1ms\n",
      "image 68/193 C:\\Users\\susan\\OneDrive\\Desktop\\cursorai-project\\project\\skin-diseases-1\\test\\images\\acne-face-1-5__ProtectWyJQcm90ZWN0Il0_FocusFillWzI5NCwyMjIsIngiLDFd_jpg.rf.fdb6ad3667504779fe8ec67e3f602930.jpg: 640x640 1 Acne, 7.0ms\n",
      "image 69/193 C:\\Users\\susan\\OneDrive\\Desktop\\cursorai-project\\project\\skin-diseases-1\\test\\images\\acne-face-1__ProtectWyJQcm90ZWN0Il0_FocusFillWzI5NCwyMjIsIngiLDFd_jpg.rf.369d7d13c7470a17c9f2737fb16bde38.jpg: 640x640 1 Acne, 7.0ms\n",
      "image 70/193 C:\\Users\\susan\\OneDrive\\Desktop\\cursorai-project\\project\\skin-diseases-1\\test\\images\\acne-face-2-1__ProtectWyJQcm90ZWN0Il0_FocusFillWzI5NCwyMjIsIngiLDFd_jpg.rf.e188145fb83fc42a2bd147671ae3a0d7.jpg: 640x640 1 Acne, 7.2ms\n",
      "image 71/193 C:\\Users\\susan\\OneDrive\\Desktop\\cursorai-project\\project\\skin-diseases-1\\test\\images\\acne-face-2-2__ProtectWyJQcm90ZWN0Il0_FocusFillWzI5NCwyMjIsIngiLDE4XQ_jpg.rf.d72edd704793ab761753332a188afb69.jpg: 640x640 8 Acnes, 7.0ms\n",
      "image 72/193 C:\\Users\\susan\\OneDrive\\Desktop\\cursorai-project\\project\\skin-diseases-1\\test\\images\\acne-face-2-4__ProtectWyJQcm90ZWN0Il0_FocusFillWzI5NCwyMjIsIngiLDFd_jpg.rf.17c89b7f99997f760bdf92014c3f7c8c.jpg: 640x640 1 Acne, 7.0ms\n",
      "image 73/193 C:\\Users\\susan\\OneDrive\\Desktop\\cursorai-project\\project\\skin-diseases-1\\test\\images\\acne-face-2-4__ProtectWyJQcm90ZWN0Il0_FocusFillWzI5NCwyMjIsIngiLDFd_jpg.rf.2071cf7a428eb445ad71a794f16fe434.jpg: 640x640 (no detections), 7.0ms\n",
      "image 74/193 C:\\Users\\susan\\OneDrive\\Desktop\\cursorai-project\\project\\skin-diseases-1\\test\\images\\acne-face-2-4__ProtectWyJQcm90ZWN0Il0_FocusFillWzI5NCwyMjIsIngiLDFd_jpg.rf.63a996f26b8c21ee295d2f35d3c71281.jpg: 640x640 3 Acnes, 7.0ms\n",
      "image 75/193 C:\\Users\\susan\\OneDrive\\Desktop\\cursorai-project\\project\\skin-diseases-1\\test\\images\\acne-face-2__ProtectWyJQcm90ZWN0Il0_FocusFillWzI5NCwyMjIsIngiLDFd_jpg.rf.6f5e5881f516ef5091bc0921d0d98dc5.jpg: 640x640 8 Acnes, 7.0ms\n",
      "image 76/193 C:\\Users\\susan\\OneDrive\\Desktop\\cursorai-project\\project\\skin-diseases-1\\test\\images\\c0515146-800px-wm-Copy_jpg.rf.fdae27cfbff8cfd623da4ba37218e8ec.jpg: 640x640 1 Ringworm, 7.1ms\n",
      "image 77/193 C:\\Users\\susan\\OneDrive\\Desktop\\cursorai-project\\project\\skin-diseases-1\\test\\images\\chickenpox100_png.rf.6891a22d25d18252d08ffc062fe6742d.jpg: 640x640 (no detections), 7.6ms\n",
      "image 78/193 C:\\Users\\susan\\OneDrive\\Desktop\\cursorai-project\\project\\skin-diseases-1\\test\\images\\chickenpox11_png.rf.3dd02fe1734632295e636104cc31b346.jpg: 640x640 2 Chickenpoxs, 7.0ms\n",
      "image 79/193 C:\\Users\\susan\\OneDrive\\Desktop\\cursorai-project\\project\\skin-diseases-1\\test\\images\\chickenpox1_png.rf.933f538550856fe9ca3c0ac8c57b9580.jpg: 640x640 (no detections), 7.0ms\n",
      "image 80/193 C:\\Users\\susan\\OneDrive\\Desktop\\cursorai-project\\project\\skin-diseases-1\\test\\images\\chickenpox49_png.rf.24877d95bad590945d52b7f68f82a0a8.jpg: 640x640 (no detections), 8.6ms\n",
      "image 81/193 C:\\Users\\susan\\OneDrive\\Desktop\\cursorai-project\\project\\skin-diseases-1\\test\\images\\chickenpox95_png.rf.a79199eefbcb3ca10502b6ea650d000e.jpg: 640x640 1 Chickenpox, 7.0ms\n",
      "image 82/193 C:\\Users\\susan\\OneDrive\\Desktop\\cursorai-project\\project\\skin-diseases-1\\test\\images\\chickenpox98_png.rf.a971d053a81201176132ab56f6bb5c26.jpg: 640x640 (no detections), 7.0ms\n",
      "image 83/193 C:\\Users\\susan\\OneDrive\\Desktop\\cursorai-project\\project\\skin-diseases-1\\test\\images\\erythema-migrans125_png_jpg.rf.c0b55d9c0d41c89ed62029e2f41f581a.jpg: 640x640 1 Ringworm, 13.0ms\n",
      "image 84/193 C:\\Users\\susan\\OneDrive\\Desktop\\cursorai-project\\project\\skin-diseases-1\\test\\images\\erythema-migrans145_png_jpg.rf.41f2b4ca694a412c1c713da548cb58e5.jpg: 640x640 1 Ringworm, 10.7ms\n",
      "image 85/193 C:\\Users\\susan\\OneDrive\\Desktop\\cursorai-project\\project\\skin-diseases-1\\test\\images\\fixed-drug-reaction46_png_jpg.rf.a641a7b0de94b95812c061b37a8aec97.jpg: 640x640 2 Ringworms, 11.0ms\n",
      "image 86/193 C:\\Users\\susan\\OneDrive\\Desktop\\cursorai-project\\project\\skin-diseases-1\\test\\images\\image20_jpeg.rf.cd72bc9aabdc6bde983927d67d6e69bb.jpg: 640x640 1 Ringworm, 12.6ms\n",
      "image 87/193 C:\\Users\\susan\\OneDrive\\Desktop\\cursorai-project\\project\\skin-diseases-1\\test\\images\\image_121_jpg.rf.00e803bb0df41401364b99c3359875a9.jpg: 640x640 1 warts, 7.1ms\n",
      "image 88/193 C:\\Users\\susan\\OneDrive\\Desktop\\cursorai-project\\project\\skin-diseases-1\\test\\images\\image_131_jpg.rf.958962c83af2c383e4753f5d8a607cbd.jpg: 640x640 1 warts, 7.0ms\n",
      "image 89/193 C:\\Users\\susan\\OneDrive\\Desktop\\cursorai-project\\project\\skin-diseases-1\\test\\images\\image_134_jpg.rf.67096d819c24cd877a1dd3b204c6ae3b.jpg: 640x640 1 vitiligo, 7.0ms\n",
      "image 90/193 C:\\Users\\susan\\OneDrive\\Desktop\\cursorai-project\\project\\skin-diseases-1\\test\\images\\image_150_jpg.rf.ddbfe4444b456b03d95d0aef2c5e4b61.jpg: 640x640 1 warts, 7.0ms\n",
      "image 91/193 C:\\Users\\susan\\OneDrive\\Desktop\\cursorai-project\\project\\skin-diseases-1\\test\\images\\image_154_jpg.rf.98fc2e0a032c399983b931bfbcf55282.jpg: 640x640 1 warts, 7.0ms\n",
      "image 92/193 C:\\Users\\susan\\OneDrive\\Desktop\\cursorai-project\\project\\skin-diseases-1\\test\\images\\image_155_jpg.rf.fd2fe6ded1d0909b659ec7b35ca30228.jpg: 640x640 1 warts, 7.0ms\n",
      "image 93/193 C:\\Users\\susan\\OneDrive\\Desktop\\cursorai-project\\project\\skin-diseases-1\\test\\images\\image_157_jpg.rf.4566741bb58253fd8a884c7b3a387d1a.jpg: 640x640 4 wartss, 7.0ms\n",
      "image 94/193 C:\\Users\\susan\\OneDrive\\Desktop\\cursorai-project\\project\\skin-diseases-1\\test\\images\\image_160_jpg.rf.a413680a4adb100003b9b1b59bd632b6.jpg: 640x640 (no detections), 7.0ms\n",
      "image 95/193 C:\\Users\\susan\\OneDrive\\Desktop\\cursorai-project\\project\\skin-diseases-1\\test\\images\\image_162_jpg.rf.d73ba1a32f3a13dad0d25bb43699d79f.jpg: 640x640 1 Ringworm, 12.9ms\n",
      "image 96/193 C:\\Users\\susan\\OneDrive\\Desktop\\cursorai-project\\project\\skin-diseases-1\\test\\images\\image_171_jpg.rf.ce0317c177106573c657cac82fda673b.jpg: 640x640 1 vitiligo, 7.0ms\n",
      "image 97/193 C:\\Users\\susan\\OneDrive\\Desktop\\cursorai-project\\project\\skin-diseases-1\\test\\images\\image_194_jpg.rf.c1a40d66fc59ddf88ee5834fbf26f93b.jpg: 640x640 (no detections), 12.7ms\n",
      "image 98/193 C:\\Users\\susan\\OneDrive\\Desktop\\cursorai-project\\project\\skin-diseases-1\\test\\images\\image_200_jpg.rf.f4a8368e74e43abe00fd5fa238cb5267.jpg: 640x640 1 basal cell carcinoma, 12.4ms\n",
      "image 99/193 C:\\Users\\susan\\OneDrive\\Desktop\\cursorai-project\\project\\skin-diseases-1\\test\\images\\image_207_jpg.rf.083e1aafe13ca45496fc5ee2efa137de.jpg: 640x640 1 vitiligo, 12.0ms\n",
      "image 100/193 C:\\Users\\susan\\OneDrive\\Desktop\\cursorai-project\\project\\skin-diseases-1\\test\\images\\image_210_jpg.rf.cdc62b05d46d588a5c347fa03421f5ce.jpg: 640x640 3 vitiligos, 7.0ms\n",
      "image 101/193 C:\\Users\\susan\\OneDrive\\Desktop\\cursorai-project\\project\\skin-diseases-1\\test\\images\\image_214_jpg.rf.8e73318158deae19d9b2a288248ac004.jpg: 640x640 (no detections), 7.0ms\n",
      "image 102/193 C:\\Users\\susan\\OneDrive\\Desktop\\cursorai-project\\project\\skin-diseases-1\\test\\images\\image_227_jpg.rf.dc1954359b9ffdd0e71b64eb0276f272.jpg: 640x640 (no detections), 7.0ms\n",
      "image 103/193 C:\\Users\\susan\\OneDrive\\Desktop\\cursorai-project\\project\\skin-diseases-1\\test\\images\\image_231_jpg.rf.8fbc2bdf915cc22db4e547c7f5010245.jpg: 640x640 2 basal cell carcinomas, 1 warts, 7.0ms\n",
      "image 104/193 C:\\Users\\susan\\OneDrive\\Desktop\\cursorai-project\\project\\skin-diseases-1\\test\\images\\image_239_jpg.rf.c17189e995f2d65d7846a17d4bfb03cc.jpg: 640x640 (no detections), 7.1ms\n",
      "image 105/193 C:\\Users\\susan\\OneDrive\\Desktop\\cursorai-project\\project\\skin-diseases-1\\test\\images\\image_242_jpg.rf.bc2163020f68ef447828b85296e4f600.jpg: 640x640 3 basal cell carcinomas, 7.8ms\n",
      "image 106/193 C:\\Users\\susan\\OneDrive\\Desktop\\cursorai-project\\project\\skin-diseases-1\\test\\images\\image_245_jpg.rf.1223cec4f9b4c7b35aeea7ff36790f78.jpg: 640x640 (no detections), 7.4ms\n",
      "image 107/193 C:\\Users\\susan\\OneDrive\\Desktop\\cursorai-project\\project\\skin-diseases-1\\test\\images\\image_247_jpg.rf.766f9a8f054f04fbd30cdbe2fd45619f.jpg: 640x640 1 vitiligo, 7.1ms\n",
      "image 108/193 C:\\Users\\susan\\OneDrive\\Desktop\\cursorai-project\\project\\skin-diseases-1\\test\\images\\image_251_jpg.rf.db33e20f54ba88cdca477577151d88cb.jpg: 640x640 2 basal cell carcinomas, 7.0ms\n",
      "image 109/193 C:\\Users\\susan\\OneDrive\\Desktop\\cursorai-project\\project\\skin-diseases-1\\test\\images\\image_261_jpg.rf.1cc29ba8c141da31dba459a4c0f05adc.jpg: 640x640 1 vitiligo, 7.1ms\n",
      "image 110/193 C:\\Users\\susan\\OneDrive\\Desktop\\cursorai-project\\project\\skin-diseases-1\\test\\images\\image_263_jpg.rf.62445eba1bf5b8ab72cbd75291637e36.jpg: 640x640 (no detections), 7.0ms\n",
      "image 111/193 C:\\Users\\susan\\OneDrive\\Desktop\\cursorai-project\\project\\skin-diseases-1\\test\\images\\image_267_jpg.rf.e8c080abefc0853a7284186e8b27c15b.jpg: 640x640 2 basal cell carcinomas, 13.3ms\n",
      "image 112/193 C:\\Users\\susan\\OneDrive\\Desktop\\cursorai-project\\project\\skin-diseases-1\\test\\images\\image_26_jpg.rf.8486dab70ba46e53671657ee517dd37a.jpg: 640x640 1 vitiligo, 12.3ms\n",
      "image 113/193 C:\\Users\\susan\\OneDrive\\Desktop\\cursorai-project\\project\\skin-diseases-1\\test\\images\\image_286_jpg.rf.1b0dff9a4517998f566d131e01e50b51.jpg: 640x640 1 vitiligo, 9.8ms\n",
      "image 114/193 C:\\Users\\susan\\OneDrive\\Desktop\\cursorai-project\\project\\skin-diseases-1\\test\\images\\image_286_jpg.rf.d4fe64885f3703f81284dcfc0f7d3f91.jpg: 640x640 (no detections), 15.0ms\n",
      "image 115/193 C:\\Users\\susan\\OneDrive\\Desktop\\cursorai-project\\project\\skin-diseases-1\\test\\images\\image_289_jpg.rf.e115c39e038e5922b3258598ba1d8266.jpg: 640x640 (no detections), 7.0ms\n",
      "image 116/193 C:\\Users\\susan\\OneDrive\\Desktop\\cursorai-project\\project\\skin-diseases-1\\test\\images\\image_298_jpg.rf.b2e0e58db64282eeb232034f6388ae0e.jpg: 640x640 1 vitiligo, 7.0ms\n",
      "image 117/193 C:\\Users\\susan\\OneDrive\\Desktop\\cursorai-project\\project\\skin-diseases-1\\test\\images\\image_303_jpg.rf.6266306117efbfdd2fbe7e6cdbba68b6.jpg: 640x640 1 vitiligo, 1 warts, 7.0ms\n",
      "image 118/193 C:\\Users\\susan\\OneDrive\\Desktop\\cursorai-project\\project\\skin-diseases-1\\test\\images\\image_309_jpg.rf.e08d96079d1f4193ca8b698917046a11.jpg: 640x640 1 vitiligo, 7.0ms\n",
      "image 119/193 C:\\Users\\susan\\OneDrive\\Desktop\\cursorai-project\\project\\skin-diseases-1\\test\\images\\image_31_jpg.rf.4be583d2ad6f0ad7f6fe7e0c4343875a.jpg: 640x640 1 vitiligo, 7.6ms\n",
      "image 120/193 C:\\Users\\susan\\OneDrive\\Desktop\\cursorai-project\\project\\skin-diseases-1\\test\\images\\image_345_jpg.rf.4fecb21fdfb85c0ee92cce325a1976c7.jpg: 640x640 2 vitiligos, 7.0ms\n",
      "image 121/193 C:\\Users\\susan\\OneDrive\\Desktop\\cursorai-project\\project\\skin-diseases-1\\test\\images\\image_364_jpg.rf.0b55a06fc07b8f75447af72116a995ec.jpg: 640x640 (no detections), 7.0ms\n",
      "image 122/193 C:\\Users\\susan\\OneDrive\\Desktop\\cursorai-project\\project\\skin-diseases-1\\test\\images\\image_55_jpg.rf.180108f585f351d9fecae903270ee8ad.jpg: 640x640 2 vitiligos, 7.0ms\n",
      "image 123/193 C:\\Users\\susan\\OneDrive\\Desktop\\cursorai-project\\project\\skin-diseases-1\\test\\images\\image_64_jpg.rf.118c5f09bc937bafeb6c18b0dec770c0.jpg: 640x640 1 vitiligo, 7.6ms\n",
      "image 124/193 C:\\Users\\susan\\OneDrive\\Desktop\\cursorai-project\\project\\skin-diseases-1\\test\\images\\image_69_jpg.rf.2ac9f36cb1dbb363fd228788133fed91.jpg: 640x640 3 vitiligos, 8.5ms\n",
      "image 125/193 C:\\Users\\susan\\OneDrive\\Desktop\\cursorai-project\\project\\skin-diseases-1\\test\\images\\image_84_jpg.rf.3f25947b7918a41de72b15fb8797601d.jpg: 640x640 1 vitiligo, 7.0ms\n",
      "image 126/193 C:\\Users\\susan\\OneDrive\\Desktop\\cursorai-project\\project\\skin-diseases-1\\test\\images\\image_89_jpg.rf.de53e496d485e9e685a21b472f6f2e62.jpg: 640x640 1 vitiligo, 7.0ms\n",
      "image 127/193 C:\\Users\\susan\\OneDrive\\Desktop\\cursorai-project\\project\\skin-diseases-1\\test\\images\\images-14-Copy_jpg.rf.fd24c77cbc763291919d0818dfd7b9c3.jpg: 640x640 1 Ringworm, 12.4ms\n",
      "image 128/193 C:\\Users\\susan\\OneDrive\\Desktop\\cursorai-project\\project\\skin-diseases-1\\test\\images\\images-8-Copy_jpg.rf.2e6bc7ace9e6461792b99a4a0eff8311.jpg: 640x640 1 Ringworm, 12.6ms\n",
      "image 129/193 C:\\Users\\susan\\OneDrive\\Desktop\\cursorai-project\\project\\skin-diseases-1\\test\\images\\l10_jpg.rf.915a06c5e4c332bfbb65dcfc73147d85.jpg: 640x640 1 Monkeypox, 1 basal cell carcinoma, 7.0ms\n",
      "image 130/193 C:\\Users\\susan\\OneDrive\\Desktop\\cursorai-project\\project\\skin-diseases-1\\test\\images\\monkeypox129-Copy_png.rf.341b51e88e92cfa5884056b8f44baaf0.jpg: 640x640 5 Monkeypoxs, 7.1ms\n",
      "image 131/193 C:\\Users\\susan\\OneDrive\\Desktop\\cursorai-project\\project\\skin-diseases-1\\test\\images\\monkeypox257-Copy_png.rf.4ef4d9b8ae2af4ffa12a361cf4f0819b.jpg: 640x640 (no detections), 10.0ms\n",
      "image 132/193 C:\\Users\\susan\\OneDrive\\Desktop\\cursorai-project\\project\\skin-diseases-1\\test\\images\\monkeypox276-Copy_png.rf.36f0eb490be8ffb5995f7123f18cd515.jpg: 640x640 (no detections), 12.4ms\n",
      "image 133/193 C:\\Users\\susan\\OneDrive\\Desktop\\cursorai-project\\project\\skin-diseases-1\\test\\images\\monkeypox3-Copy_png.rf.32eed1c621347eeb0f58981c827c1b80.jpg: 640x640 2 Monkeypoxs, 9.0ms\n",
      "image 134/193 C:\\Users\\susan\\OneDrive\\Desktop\\cursorai-project\\project\\skin-diseases-1\\test\\images\\pimples_png.rf.04ddbf88683ef4bb208917d704225e16.jpg: 640x640 (no detections), 7.1ms\n",
      "image 135/193 C:\\Users\\susan\\OneDrive\\Desktop\\cursorai-project\\project\\skin-diseases-1\\test\\images\\ringworm-50-_png_jpg.rf.d3d0854351c8b22444adc5094db7bf76.jpg: 640x640 (no detections), 7.0ms\n",
      "image 136/193 C:\\Users\\susan\\OneDrive\\Desktop\\cursorai-project\\project\\skin-diseases-1\\test\\images\\ringworm-59-_png_jpg.rf.d8f6ce94ce34a838dc9a89dbe52035ea.jpg: 640x640 (no detections), 7.2ms\n",
      "image 137/193 C:\\Users\\susan\\OneDrive\\Desktop\\cursorai-project\\project\\skin-diseases-1\\test\\images\\ringworm-sample-2-300x225-1-Copy_jpg.rf.3d8723927eb588ab56442c2b4e46d8c4.jpg: 640x640 2 Ringworms, 7.0ms\n",
      "image 138/193 C:\\Users\\susan\\OneDrive\\Desktop\\cursorai-project\\project\\skin-diseases-1\\test\\images\\ringworm27_png_jpg.rf.05576098e9f411a3bb9e76fde155b772.jpg: 640x640 1 Ringworm, 7.0ms\n",
      "image 139/193 C:\\Users\\susan\\OneDrive\\Desktop\\cursorai-project\\project\\skin-diseases-1\\test\\images\\ringworm_spreading_skin-width-320-Copy_jpg.rf.638c2628e5c1bcb29fd8bbdce058bd2b.jpg: 640x640 2 Ringworms, 7.0ms\n",
      "image 140/193 C:\\Users\\susan\\OneDrive\\Desktop\\cursorai-project\\project\\skin-diseases-1\\test\\images\\shutterstock_484652500-scaled-Copy_jpg.rf.070d627c7bd4d87fb5f96706a35ec00c.jpg: 640x640 1 Ringworm, 7.1ms\n",
      "image 141/193 C:\\Users\\susan\\OneDrive\\Desktop\\cursorai-project\\project\\skin-diseases-1\\test\\images\\t-eczema-arms-7_jpg.rf.06f39aa392fb71d7eeabf3db36bd0cb1.jpg: 640x640 2 Eczemas, 7.0ms\n",
      "image 142/193 C:\\Users\\susan\\OneDrive\\Desktop\\cursorai-project\\project\\skin-diseases-1\\test\\images\\t-eczema-arms-7_jpg.rf.6f53db71f8f6af73a1680372ac9b3f03.jpg: 640x640 2 Eczemas, 9.1ms\n",
      "image 143/193 C:\\Users\\susan\\OneDrive\\Desktop\\cursorai-project\\project\\skin-diseases-1\\test\\images\\t-eczema-asteatotic-16_jpg.rf.9011633d4af84c6a03db7c8b433ad071.jpg: 640x640 2 Eczemas, 12.1ms\n",
      "image 144/193 C:\\Users\\susan\\OneDrive\\Desktop\\cursorai-project\\project\\skin-diseases-1\\test\\images\\t-eczema-asteatotic-17_jpg.rf.da350785e9ee4f9da562060d4279f34c.jpg: 640x640 2 Eczemas, 7.0ms\n",
      "image 145/193 C:\\Users\\susan\\OneDrive\\Desktop\\cursorai-project\\project\\skin-diseases-1\\test\\images\\t-eczema-asteatotic-2_jpg.rf.ff481239fe310f7930c8bb6e88e44d84.jpg: 640x640 2 Eczemas, 7.2ms\n",
      "image 146/193 C:\\Users\\susan\\OneDrive\\Desktop\\cursorai-project\\project\\skin-diseases-1\\test\\images\\t-eczema-asteatotic-30_jpg.rf.f5fc649477888de8ca5c557680348428.jpg: 640x640 2 Eczemas, 7.0ms\n",
      "image 147/193 C:\\Users\\susan\\OneDrive\\Desktop\\cursorai-project\\project\\skin-diseases-1\\test\\images\\t-eczema-asteatotic-41_jpg.rf.21df35ef3dea6129498d440e05c05bce.jpg: 640x640 2 Eczemas, 7.1ms\n",
      "image 148/193 C:\\Users\\susan\\OneDrive\\Desktop\\cursorai-project\\project\\skin-diseases-1\\test\\images\\t-eczema-chronic-24_jpg.rf.e38eac8e5e7761186e2ebfc46986a195.jpg: 640x640 6 Eczemas, 7.0ms\n",
      "image 149/193 C:\\Users\\susan\\OneDrive\\Desktop\\cursorai-project\\project\\skin-diseases-1\\test\\images\\t-eczema-nummular-131_jpg.rf.2720ca626c3e6bf3a0ebb9f1752b752e.jpg: 640x640 4 Eczemas, 7.0ms\n",
      "image 150/193 C:\\Users\\susan\\OneDrive\\Desktop\\cursorai-project\\project\\skin-diseases-1\\test\\images\\t-eczema-nummular-131_jpg.rf.b355bad92b0fe2a589f0f32aae142ff0.jpg: 640x640 4 Eczemas, 7.0ms\n",
      "image 151/193 C:\\Users\\susan\\OneDrive\\Desktop\\cursorai-project\\project\\skin-diseases-1\\test\\images\\t-eczema-nummular-132_jpg.rf.c32f49cd14e369e87a0fe7a2210fa99c.jpg: 640x640 2 Eczemas, 7.0ms\n",
      "image 152/193 C:\\Users\\susan\\OneDrive\\Desktop\\cursorai-project\\project\\skin-diseases-1\\test\\images\\t-eczema-nummular-134_jpg.rf.669aa5eb3c321641bfcf3c8b9819d19d.jpg: 640x640 5 Eczemas, 7.0ms\n",
      "image 153/193 C:\\Users\\susan\\OneDrive\\Desktop\\cursorai-project\\project\\skin-diseases-1\\test\\images\\t-eczema-nummular-134_jpg.rf.a764cc143eaa4fb0cefbdbec94d9032c.jpg: 640x640 5 Eczemas, 7.1ms\n",
      "image 154/193 C:\\Users\\susan\\OneDrive\\Desktop\\cursorai-project\\project\\skin-diseases-1\\test\\images\\t-eczema-nummular-148_jpg.rf.95e39ea459313d20cade62b751711eb4.jpg: 640x640 6 Eczemas, 7.0ms\n",
      "image 155/193 C:\\Users\\susan\\OneDrive\\Desktop\\cursorai-project\\project\\skin-diseases-1\\test\\images\\t-eczema-nummular-161_jpg.rf.69274c81d089e6bc27e8f6b848ee5c40.jpg: 640x640 7 Eczemas, 7.0ms\n",
      "image 156/193 C:\\Users\\susan\\OneDrive\\Desktop\\cursorai-project\\project\\skin-diseases-1\\test\\images\\t-eczema-nummular-161_jpg.rf.fc9b236579e3f8491808b973017e464a.jpg: 640x640 7 Eczemas, 7.0ms\n",
      "image 157/193 C:\\Users\\susan\\OneDrive\\Desktop\\cursorai-project\\project\\skin-diseases-1\\test\\images\\t-eczema-nummular-164_jpg.rf.b133191c2456331faba7d660629d97e2.jpg: 640x640 7 Eczemas, 7.0ms\n",
      "image 158/193 C:\\Users\\susan\\OneDrive\\Desktop\\cursorai-project\\project\\skin-diseases-1\\test\\images\\t-eczema-nummular-165_jpg.rf.00a89fcdc205c47adedebc49f435efe0.jpg: 640x640 2 Eczemas, 7.4ms\n",
      "image 159/193 C:\\Users\\susan\\OneDrive\\Desktop\\cursorai-project\\project\\skin-diseases-1\\test\\images\\t-eczema-nummular-165_jpg.rf.7e9f0c7b0d5392b486284aec13552ca3.jpg: 640x640 1 Eczema, 7.0ms\n",
      "image 160/193 C:\\Users\\susan\\OneDrive\\Desktop\\cursorai-project\\project\\skin-diseases-1\\test\\images\\t-eczema-nummular-166_jpg.rf.671d0d205e658a880b99ebf5da9734f8.jpg: 640x640 2 Eczemas, 7.1ms\n",
      "image 161/193 C:\\Users\\susan\\OneDrive\\Desktop\\cursorai-project\\project\\skin-diseases-1\\test\\images\\t-eczema-subacute-22_jpg.rf.81dd1125d4bc76aafd2eadc10d7ea366.jpg: 640x640 1 tinea-versicolor, 8.2ms\n",
      "image 162/193 C:\\Users\\susan\\OneDrive\\Desktop\\cursorai-project\\project\\skin-diseases-1\\test\\images\\t-eczema-subacute-22_jpg.rf.db8793383735722c2a4a7eb16e365832.jpg: 640x640 (no detections), 7.2ms\n",
      "image 163/193 C:\\Users\\susan\\OneDrive\\Desktop\\cursorai-project\\project\\skin-diseases-1\\test\\images\\t-eczema-subacute-23_jpg.rf.ec1337dcc5fd4678aefad9c93fb271ff.jpg: 640x640 (no detections), 7.1ms\n",
      "image 164/193 C:\\Users\\susan\\OneDrive\\Desktop\\cursorai-project\\project\\skin-diseases-1\\test\\images\\t-eczema-subacute-77_jpg.rf.e2fdbe658807b56a5f1c9a513e38d978.jpg: 640x640 2 Eczemas, 7.0ms\n",
      "image 165/193 C:\\Users\\susan\\OneDrive\\Desktop\\cursorai-project\\project\\skin-diseases-1\\test\\images\\t-tinea-body-197_jpg.rf.db1702ac666ceda5e004497fc6fac415.jpg: 640x640 2 Eczemas, 8.3ms\n",
      "image 166/193 C:\\Users\\susan\\OneDrive\\Desktop\\cursorai-project\\project\\skin-diseases-1\\test\\images\\t-tinea-versicolor-100_jpg.rf.a1f2674a95190e40a7fd8456feb67459.jpg: 640x640 1 Eczema, 1 tinea-versicolor, 9.1ms\n",
      "image 167/193 C:\\Users\\susan\\OneDrive\\Desktop\\cursorai-project\\project\\skin-diseases-1\\test\\images\\t-tinea-versicolor-109_jpg.rf.caa041b021f0501fee04ba755bea9be5.jpg: 640x640 1 tinea-versicolor, 7.0ms\n",
      "image 168/193 C:\\Users\\susan\\OneDrive\\Desktop\\cursorai-project\\project\\skin-diseases-1\\test\\images\\t-tinea-versicolor-116_jpg.rf.67ce8228da3c9420d07c3df4cf56f04b.jpg: 640x640 1 tinea-versicolor, 7.0ms\n",
      "image 169/193 C:\\Users\\susan\\OneDrive\\Desktop\\cursorai-project\\project\\skin-diseases-1\\test\\images\\t-tinea-versicolor-126_jpg.rf.a06c76f274bb92302f586fff3c2845b7.jpg: 640x640 1 tinea-versicolor, 7.0ms\n",
      "image 170/193 C:\\Users\\susan\\OneDrive\\Desktop\\cursorai-project\\project\\skin-diseases-1\\test\\images\\t-tinea-versicolor-133_jpg.rf.acc6795b7fbfb09f5706576e3cb98bca.jpg: 640x640 2 tinea-versicolors, 7.1ms\n",
      "image 171/193 C:\\Users\\susan\\OneDrive\\Desktop\\cursorai-project\\project\\skin-diseases-1\\test\\images\\t-tinea-versicolor-134_jpg.rf.2dc29823d832bef99069b2f5c16c2e3e.jpg: 640x640 1 tinea-versicolor, 7.0ms\n",
      "image 172/193 C:\\Users\\susan\\OneDrive\\Desktop\\cursorai-project\\project\\skin-diseases-1\\test\\images\\t-tinea-versicolor-135_jpg.rf.a6f4defe462ff939afbe9bd293713b4e.jpg: 640x640 1 tinea-versicolor, 7.0ms\n",
      "image 173/193 C:\\Users\\susan\\OneDrive\\Desktop\\cursorai-project\\project\\skin-diseases-1\\test\\images\\t-tinea-versicolor-147_jpg.rf.5dbf41c3286888479d4de28469c92062.jpg: 640x640 1 tinea-versicolor, 11.0ms\n",
      "image 174/193 C:\\Users\\susan\\OneDrive\\Desktop\\cursorai-project\\project\\skin-diseases-1\\test\\images\\t-tinea-versicolor-153_jpg.rf.d44eca5d2192ffbb2b57977e7fb986c3.jpg: 640x640 1 tinea-versicolor, 7.0ms\n",
      "image 175/193 C:\\Users\\susan\\OneDrive\\Desktop\\cursorai-project\\project\\skin-diseases-1\\test\\images\\t-tinea-versicolor-156_jpg.rf.d49e9c2203be25cd25c98d1923645d24.jpg: 640x640 1 tinea-versicolor, 7.1ms\n",
      "image 176/193 C:\\Users\\susan\\OneDrive\\Desktop\\cursorai-project\\project\\skin-diseases-1\\test\\images\\t-tinea-versicolor-15_jpg.rf.8d8fb1b8ec3c3d514a1ac37d1c53fd18.jpg: 640x640 1 tinea-versicolor, 7.0ms\n",
      "image 177/193 C:\\Users\\susan\\OneDrive\\Desktop\\cursorai-project\\project\\skin-diseases-1\\test\\images\\t-tinea-versicolor-165_jpg.rf.19a7c25fbf50f55e29be62b5cb2767a7.jpg: 640x640 1 tinea-versicolor, 8.3ms\n",
      "image 178/193 C:\\Users\\susan\\OneDrive\\Desktop\\cursorai-project\\project\\skin-diseases-1\\test\\images\\t-tinea-versicolor-167_jpg.rf.85de0f382662729157db52f2cb98bcac.jpg: 640x640 1 tinea-versicolor, 7.1ms\n",
      "image 179/193 C:\\Users\\susan\\OneDrive\\Desktop\\cursorai-project\\project\\skin-diseases-1\\test\\images\\t-tinea-versicolor-170_jpg.rf.bd63c49900578404d0c3a178812c1b85.jpg: 640x640 1 tinea-versicolor, 7.0ms\n",
      "image 180/193 C:\\Users\\susan\\OneDrive\\Desktop\\cursorai-project\\project\\skin-diseases-1\\test\\images\\t-tinea-versicolor-171_jpg.rf.7b0f01e34c0640c37c11151a9b416a3f.jpg: 640x640 1 tinea-versicolor, 7.0ms\n",
      "image 181/193 C:\\Users\\susan\\OneDrive\\Desktop\\cursorai-project\\project\\skin-diseases-1\\test\\images\\t-tinea-versicolor-173_jpg.rf.edacd4321e21bd5a5572c90d01c5e101.jpg: 640x640 1 tinea-versicolor, 7.1ms\n",
      "image 182/193 C:\\Users\\susan\\OneDrive\\Desktop\\cursorai-project\\project\\skin-diseases-1\\test\\images\\t-tinea-versicolor-17_jpg.rf.9acc08f4957ea2eaba65335cce8b3e74.jpg: 640x640 1 tinea-versicolor, 13.7ms\n",
      "image 183/193 C:\\Users\\susan\\OneDrive\\Desktop\\cursorai-project\\project\\skin-diseases-1\\test\\images\\t-tinea-versicolor-193_jpg.rf.dd08b307ef671f79cbc47cc8b04e2338.jpg: 640x640 2 tinea-versicolors, 7.2ms\n",
      "image 184/193 C:\\Users\\susan\\OneDrive\\Desktop\\cursorai-project\\project\\skin-diseases-1\\test\\images\\t-tinea-versicolor-83_jpg.rf.a663559039dcc0ec9ab0232a7bf2423f.jpg: 640x640 1 tinea-versicolor, 7.2ms\n",
      "image 185/193 C:\\Users\\susan\\OneDrive\\Desktop\\cursorai-project\\project\\skin-diseases-1\\test\\images\\tincorp9-4c254639fe6d48bbaed4e154f6f21647-1-Copy_jpg.rf.40c222284002043c69e6ea6f85c804b2.jpg: 640x640 1 Ringworm, 7.0ms\n",
      "image 186/193 C:\\Users\\susan\\OneDrive\\Desktop\\cursorai-project\\project\\skin-diseases-1\\test\\images\\tinea-faciale-Copy_jpg.rf.0dc4cc7f255307ccbad0cf2ac9847e00.jpg: 640x640 1 Ringworm, 7.0ms\n",
      "image 187/193 C:\\Users\\susan\\OneDrive\\Desktop\\cursorai-project\\project\\skin-diseases-1\\test\\images\\v-tinea-versicolor-106_jpg.rf.23d5496e45c920db4cdbf5bfa3037ae8.jpg: 640x640 1 tinea-versicolor, 7.1ms\n",
      "image 188/193 C:\\Users\\susan\\OneDrive\\Desktop\\cursorai-project\\project\\skin-diseases-1\\test\\images\\v-tinea-versicolor-172_jpg.rf.d2d26594df39fdfe04c7016f66c9fa89.jpg: 640x640 1 tinea-versicolor, 7.1ms\n",
      "image 189/193 C:\\Users\\susan\\OneDrive\\Desktop\\cursorai-project\\project\\skin-diseases-1\\test\\images\\v-tinea-versicolor-176_jpg.rf.7f53aa240f97ed3370ce66cb079b6319.jpg: 640x640 1 tinea-versicolor, 7.1ms\n",
      "image 190/193 C:\\Users\\susan\\OneDrive\\Desktop\\cursorai-project\\project\\skin-diseases-1\\test\\images\\v-tinea-versicolor-1_jpg.rf.47ac634627d1bfaab296b4d22e7c60de.jpg: 640x640 (no detections), 7.1ms\n",
      "image 191/193 C:\\Users\\susan\\OneDrive\\Desktop\\cursorai-project\\project\\skin-diseases-1\\test\\images\\v-tinea-versicolor-81_jpg.rf.0192e81e4d72e4d60863ccbb92df87f3.jpg: 640x640 1 tinea-versicolor, 7.1ms\n",
      "image 192/193 C:\\Users\\susan\\OneDrive\\Desktop\\cursorai-project\\project\\skin-diseases-1\\test\\images\\v-tinea-versicolor-86_jpg.rf.8c02ccbea12cd86a5afceeaf428a0611.jpg: 640x640 1 tinea-versicolor, 7.0ms\n",
      "image 193/193 C:\\Users\\susan\\OneDrive\\Desktop\\cursorai-project\\project\\skin-diseases-1\\test\\images\\v-tinea-versicolor-8_jpg.rf.80fd21e2f7f23cdf1b42ece817c755e9.jpg: 640x640 1 tinea-versicolor, 7.0ms\n",
      "Speed: 2.3ms preprocess, 9.6ms inference, 1.6ms postprocess per image at shape (1, 3, 640, 640)\n",
      "Warning: Length mismatch. y_true: 989, y_pred: 193\n"
     ]
    },
    {
     "data": {
      "text/plain": [
       "<Figure size 600x500 with 2 Axes>"
      ]
     },
     "metadata": {},
     "output_type": "display_data"
    }
   ],
   "source": [
    "import os\n",
    "import seaborn as sns\n",
    "import matplotlib.pyplot as plt\n",
    "from sklearn.metrics import confusion_matrix\n",
    "\n",
    "# Get y_true from YOLO label files\n",
    "label_folder = \"skin-diseases-1/test/labels/\"\n",
    "y_true = []\n",
    "for label_file in os.listdir(label_folder):\n",
    "    with open(os.path.join(label_folder, label_file), 'r') as file:\n",
    "        for line in file:\n",
    "            class_label = int(line.split()[0])  # Extract ground truth class label\n",
    "            y_true.append(class_label)\n",
    "\n",
    "# Get y_pred from YOLO model predictions\n",
    "results = model.predict(source=\"skin-diseases-1/test/images\", conf=0.5)\n",
    "y_pred = []\n",
    "for result in results:\n",
    "    if len(result.boxes.cls) > 0:  # Check if any objects were detected\n",
    "        y_pred.append(int(result.boxes.cls[0].item()))  # Take the first detected class\n",
    "    else:\n",
    "        y_pred.append(-1)  # Use -1 or another placeholder for \"no detection\"\n",
    "# Compute confusion matrix\n",
    "if len(y_true) != len(y_pred):\n",
    "    print(f\"Warning: Length mismatch. y_true: {len(y_true)}, y_pred: {len(y_pred)}\")\n",
    "\n",
    "# Truncate or pad y_pred to match y_true length (if needed)\n",
    "if len(y_pred) < len(y_true):\n",
    "    y_pred.extend([-1] * (len(y_true) - len(y_pred)))  # Pad with -1\n",
    "elif len(y_pred) > len(y_true):\n",
    "    y_pred = y_pred[:len(y_true)]  # Truncate extra predictions\n",
    "cm = confusion_matrix(y_true, y_pred)\n",
    "\n",
    "plt.figure(figsize=(6, 5))\n",
    "sns.heatmap(cm, annot=True, fmt=\"d\", cmap=\"Blues\")\n",
    "plt.xlabel(\"Predicted\")\n",
    "plt.ylabel(\"Actual\")\n",
    "plt.title(\"Confusion Matrix\")\n",
    "\n",
    "# Enable interactive mode if running in a console\n",
    "plt.ion()  \n",
    "plt.show()  # Ensure the plot window is triggered\n"
   ]
  },
  {
   "cell_type": "code",
   "execution_count": null,
   "id": "e991d25e-a62a-4cf4-afaf-52c614016394",
   "metadata": {},
   "outputs": [],
   "source": [
    "#model evaluation"
   ]
  },
  {
   "cell_type": "code",
   "execution_count": 3,
   "id": "6c7c3104-6b0a-4467-8f15-0a952fb44f28",
   "metadata": {},
   "outputs": [
    {
     "name": "stdout",
     "output_type": "stream",
     "text": [
      "Index(['epoch', 'time', 'train/box_loss', 'train/cls_loss', 'train/dfl_loss',\n",
      "       'metrics/precision(B)', 'metrics/recall(B)', 'metrics/mAP50(B)',\n",
      "       'metrics/mAP50-95(B)', 'val/box_loss', 'val/cls_loss', 'val/dfl_loss',\n",
      "       'lr/pg0', 'lr/pg1', 'lr/pg2'],\n",
      "      dtype='object')\n"
     ]
    }
   ],
   "source": [
    "import pandas as pd\n",
    "\n",
    "df = pd.read_csv(r\"C:\\Users\\susan\\runs\\detect\\train40\\results.csv\")\n",
    "print(df.columns)  # Print all available column names\n"
   ]
  },
  {
   "cell_type": "code",
   "execution_count": 4,
   "id": "9c75f518-598b-4a52-8077-d4a712a56048",
   "metadata": {},
   "outputs": [
    {
     "name": "stdout",
     "output_type": "stream",
     "text": [
      "Train Loss: 3.7962, Test Loss: 5.2322\n",
      "mAP@50: 0.5682, mAP@50-95: 0.3306\n"
     ]
    }
   ],
   "source": [
    "import pandas as pd\n",
    "\n",
    "# Load training results\n",
    "df = pd.read_csv(r\"C:\\Users\\susan\\runs\\detect\\train40\\results.csv\")\n",
    "\n",
    "# Get the last row (final epoch results)\n",
    "last_epoch = df.iloc[-1]\n",
    "\n",
    "# Update loss calculation (use \"dfl_loss\" instead of \"obj_loss\")\n",
    "train_loss = last_epoch[\"train/box_loss\"] + last_epoch[\"train/cls_loss\"] + last_epoch[\"train/dfl_loss\"]\n",
    "test_loss = last_epoch[\"val/box_loss\"] + last_epoch[\"val/cls_loss\"] + last_epoch[\"val/dfl_loss\"]\n",
    "\n",
    "# Extract mAP values\n",
    "map_50 = last_epoch[\"metrics/mAP50(B)\"]\n",
    "map_50_95 = last_epoch[\"metrics/mAP50-95(B)\"]\n",
    "\n",
    "# Print results\n",
    "print(f\"Train Loss: {train_loss:.4f}, Test Loss: {test_loss:.4f}\")\n",
    "print(f\"mAP@50: {map_50:.4f}, mAP@50-95: {map_50_95:.4f}\")\n"
   ]
  },
  {
   "cell_type": "code",
   "execution_count": 5,
   "id": "e6c7bc6a-815e-40ad-b1e2-1ac9454fcdad",
   "metadata": {},
   "outputs": [
    {
     "data": {
      "image/png": "[encoded data removed]",
      "text/plain": [
       "<Figure size 1200x500 with 2 Axes>"
      ]
     },
     "metadata": {},
     "output_type": "display_data"
    }
   ],
   "source": [
    "import pandas as pd\n",
    "import matplotlib.pyplot as plt\n",
    "\n",
    "# Load training results\n",
    "df =pd.read_csv(r\"C:\\Users\\susan\\runs\\detect\\train40\\results.csv\")\n",
    "\n",
    "# Plot training & validation loss\n",
    "plt.figure(figsize=(12, 5))\n",
    "\n",
    "# Loss Plot\n",
    "plt.subplot(1, 2, 1)\n",
    "plt.plot(df[\"epoch\"], df[\"train/box_loss\"], label=\"Train Box Loss\")\n",
    "plt.plot(df[\"epoch\"], df[\"train/cls_loss\"], label=\"Train Class Loss\")\n",
    "plt.plot(df[\"epoch\"], df[\"train/dfl_loss\"], label=\"Train DFL Loss\")\n",
    "plt.plot(df[\"epoch\"], df[\"val/box_loss\"], label=\"Validation Box Loss\", linestyle=\"dashed\")\n",
    "plt.plot(df[\"epoch\"], df[\"val/cls_loss\"], label=\"Validation Class Loss\", linestyle=\"dashed\")\n",
    "plt.plot(df[\"epoch\"], df[\"val/dfl_loss\"], label=\"Validation DFL Loss\", linestyle=\"dashed\")\n",
    "plt.xlabel(\"Epochs\")\n",
    "plt.ylabel(\"Loss\")\n",
    "plt.title(\"Training & Validation Loss Over Epochs\")\n",
    "plt.legend()\n",
    "plt.grid()\n",
    "\n",
    "# mAP Plot\n",
    "plt.subplot(1, 2, 2)\n",
    "plt.plot(df[\"epoch\"], df[\"metrics/mAP50(B)\"], label=\"mAP@50\", color=\"blue\")\n",
    "plt.plot(df[\"epoch\"], df[\"metrics/mAP50-95(B)\"], label=\"mAP@50-95\", color=\"red\")\n",
    "plt.xlabel(\"Epochs\")\n",
    "plt.ylabel(\"mAP\")\n",
    "plt.title(\"mAP Over Epochs\")\n",
    "plt.legend()\n",
    "plt.grid()\n",
    "\n",
    "plt.tight_layout()\n",
    "plt.show()\n"
   ]
  },
  {
   "cell_type": "code",
   "execution_count": null,
   "id": "b8487468-f024-4f5e-bffe-db4c398d3e41",
   "metadata": {},
   "outputs": [],
   "source": []
  }
 ],
 "metadata": {
  "kernelspec": {
   "display_name": "Python 3 (ipykernel)",
   "language": "python",
   "name": "python3"
  },
  "language_info": {
   "codemirror_mode": {
    "name": "ipython",
    "version": 3
   },
   "file_extension": ".py",
   "mimetype": "text/x-python",
   "name": "python",
   "nbconvert_exporter": "python",
   "pygments_lexer": "ipython3",
   "version": "3.10.0"
  }
 },
 "nbformat": 4,
 "nbformat_minor": 5
}
